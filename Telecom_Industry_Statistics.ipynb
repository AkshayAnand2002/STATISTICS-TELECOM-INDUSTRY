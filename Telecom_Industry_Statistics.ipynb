{
  "cells": [
    {
      "cell_type": "markdown",
      "source": [
        "<a id='1'></a><center> <h3 style=\"background-color:orange; color:white\" ><br>Telecommunication Industry Project<br></h3>"
      ],
      "metadata": {
        "id": "QvtD0SxEOPGe"
      }
    },
    {
      "cell_type": "markdown",
      "source": [
        "# Introduction\n",
        "\n",
        "You will work with a data set that contains mobile phone prices and their specifications.\n",
        "\n",
        "**Dataset Columns Information**\n",
        "\n",
        "PID = a unique identifier for the phone model\n",
        "\n",
        "Blue = whether the phone has bluetooth support or not\n",
        "\n",
        "Wi_Fi = whether the phone has wifi support or not\n",
        "\n",
        "Tch_Scr = whether the phone has touch screen support or not\n",
        "\n",
        "Ext_Mem = whether the phone has external memory support or not\n",
        "\n",
        "Px_h = number of pixels in the vertical axis of the phone\n",
        "\n",
        "Px_w = number of pixels in the horizontal axis of the phone\n",
        "\n",
        "Scr_h = height of the screen of the phone in centimetres (cm)\n",
        "\n",
        "Scr_w = width of the screen of the phone in centimetres (cm)\n",
        "\n",
        "Int_Mem = internal memory of the phone measured in megabytes (MB)\n",
        "\n",
        "Bty_Pwr = maximum energy stored by the phone's battery measured in \n",
        "milli-Ampere-hours (mAh)\n",
        "\n",
        "PC = resolution of the primary camera measued in megapixels (MP)\n",
        "\n",
        "FC = resolution of the front camera measued in megapixels (MP)\n",
        "\n",
        "RAM = random access memory available in the phone measured in gigabytes (GB)\n",
        "\n",
        "Depth = depth of the mobile phone measured in centimetres (cm)\n",
        "\n",
        "Weight = weight of the mobile phone measured in grams (g)\n",
        "\n",
        "Price = selling price of the mobile phone in rupees\n"
      ],
      "metadata": {
        "id": "_pzTIrVbOcFF"
      }
    },
    {
      "cell_type": "markdown",
      "source": [
        "## Task 1 - Load and study the data"
      ],
      "metadata": {
        "id": "YCLhIkwFO4Tj"
      }
    },
    {
      "cell_type": "markdown",
      "source": [
        "Import the libraries that will be used in this notebook"
      ],
      "metadata": {
        "id": "CBMdPgPUO89Y"
      }
    },
    {
      "cell_type": "code",
      "execution_count": 1,
      "metadata": {
        "id": "z9ZS2Tw2N857"
      },
      "outputs": [],
      "source": [
        "# Load \"numpy\" and \"pandas\" for manipulating numbers and data frames\n",
        "# Load \"matplotlib.pyplot\" and \"seaborn\" for data visualisation\n",
        "\n",
        "import numpy as np\n",
        "import matplotlib.pyplot as plt\n",
        "import pandas as pd\n",
        "import seaborn as sns"
      ]
    },
    {
      "cell_type": "markdown",
      "source": [
        "Load the csv file as pandas dataframe. "
      ],
      "metadata": {
        "id": "7rdvm8PDPCgM"
      }
    },
    {
      "cell_type": "code",
      "execution_count": 2,
      "metadata": {
        "id": "7p5Rg_AkN858"
      },
      "outputs": [],
      "source": [
        "# Read in the \"Dataset\" file as a Pandas Data Frame\n",
        "\n",
        "dataset=pd.read_csv('/content/Mobile_Phones.csv')"
      ]
    },
    {
      "cell_type": "code",
      "execution_count": 3,
      "metadata": {
        "id": "WdfT3N-iN859",
        "colab": {
          "base_uri": "https://localhost:8080/",
          "height": 206
        },
        "outputId": "00738bc5-0be4-4803-a7c3-4d1471c36210"
      },
      "outputs": [
        {
          "output_type": "execute_result",
          "data": {
            "text/plain": [
              "       PID Blue Wi_Fi Tch_Scr Ext_Mem  Px_h  Px_w  Scr_h  Scr_w  PC  FC  \\\n",
              "0  AAB346A  yes   yes      no      no   780   460      3      1   2   2   \n",
              "1  AAC347I  yes   yes      no      no   780   560      2      1   4   2   \n",
              "2  BAB657J   no   yes      no      no   840   720      2      1   4   2   \n",
              "3  BBD456K   no   yes     yes      no  1280  1120      5      3   6   2   \n",
              "4  CCP761U   no   yes     yes      no  1280  1080      4      3   6   2   \n",
              "\n",
              "   Int_Mem  Bty_Pwr  RAM  Depth  Weight  Price  \n",
              "0        8     2800    2      7     320   3297  \n",
              "1        8     3000    2      7     280   4500  \n",
              "2        8     3300    2      7     400   4898  \n",
              "3       32     3000    2      3     300   6900  \n",
              "4       16     3000    2      3     210   5600  "
            ],
            "text/html": [
              "\n",
              "  <div id=\"df-2ea978b5-83c8-44c4-92c5-3f5559d17696\">\n",
              "    <div class=\"colab-df-container\">\n",
              "      <div>\n",
              "<style scoped>\n",
              "    .dataframe tbody tr th:only-of-type {\n",
              "        vertical-align: middle;\n",
              "    }\n",
              "\n",
              "    .dataframe tbody tr th {\n",
              "        vertical-align: top;\n",
              "    }\n",
              "\n",
              "    .dataframe thead th {\n",
              "        text-align: right;\n",
              "    }\n",
              "</style>\n",
              "<table border=\"1\" class=\"dataframe\">\n",
              "  <thead>\n",
              "    <tr style=\"text-align: right;\">\n",
              "      <th></th>\n",
              "      <th>PID</th>\n",
              "      <th>Blue</th>\n",
              "      <th>Wi_Fi</th>\n",
              "      <th>Tch_Scr</th>\n",
              "      <th>Ext_Mem</th>\n",
              "      <th>Px_h</th>\n",
              "      <th>Px_w</th>\n",
              "      <th>Scr_h</th>\n",
              "      <th>Scr_w</th>\n",
              "      <th>PC</th>\n",
              "      <th>FC</th>\n",
              "      <th>Int_Mem</th>\n",
              "      <th>Bty_Pwr</th>\n",
              "      <th>RAM</th>\n",
              "      <th>Depth</th>\n",
              "      <th>Weight</th>\n",
              "      <th>Price</th>\n",
              "    </tr>\n",
              "  </thead>\n",
              "  <tbody>\n",
              "    <tr>\n",
              "      <th>0</th>\n",
              "      <td>AAB346A</td>\n",
              "      <td>yes</td>\n",
              "      <td>yes</td>\n",
              "      <td>no</td>\n",
              "      <td>no</td>\n",
              "      <td>780</td>\n",
              "      <td>460</td>\n",
              "      <td>3</td>\n",
              "      <td>1</td>\n",
              "      <td>2</td>\n",
              "      <td>2</td>\n",
              "      <td>8</td>\n",
              "      <td>2800</td>\n",
              "      <td>2</td>\n",
              "      <td>7</td>\n",
              "      <td>320</td>\n",
              "      <td>3297</td>\n",
              "    </tr>\n",
              "    <tr>\n",
              "      <th>1</th>\n",
              "      <td>AAC347I</td>\n",
              "      <td>yes</td>\n",
              "      <td>yes</td>\n",
              "      <td>no</td>\n",
              "      <td>no</td>\n",
              "      <td>780</td>\n",
              "      <td>560</td>\n",
              "      <td>2</td>\n",
              "      <td>1</td>\n",
              "      <td>4</td>\n",
              "      <td>2</td>\n",
              "      <td>8</td>\n",
              "      <td>3000</td>\n",
              "      <td>2</td>\n",
              "      <td>7</td>\n",
              "      <td>280</td>\n",
              "      <td>4500</td>\n",
              "    </tr>\n",
              "    <tr>\n",
              "      <th>2</th>\n",
              "      <td>BAB657J</td>\n",
              "      <td>no</td>\n",
              "      <td>yes</td>\n",
              "      <td>no</td>\n",
              "      <td>no</td>\n",
              "      <td>840</td>\n",
              "      <td>720</td>\n",
              "      <td>2</td>\n",
              "      <td>1</td>\n",
              "      <td>4</td>\n",
              "      <td>2</td>\n",
              "      <td>8</td>\n",
              "      <td>3300</td>\n",
              "      <td>2</td>\n",
              "      <td>7</td>\n",
              "      <td>400</td>\n",
              "      <td>4898</td>\n",
              "    </tr>\n",
              "    <tr>\n",
              "      <th>3</th>\n",
              "      <td>BBD456K</td>\n",
              "      <td>no</td>\n",
              "      <td>yes</td>\n",
              "      <td>yes</td>\n",
              "      <td>no</td>\n",
              "      <td>1280</td>\n",
              "      <td>1120</td>\n",
              "      <td>5</td>\n",
              "      <td>3</td>\n",
              "      <td>6</td>\n",
              "      <td>2</td>\n",
              "      <td>32</td>\n",
              "      <td>3000</td>\n",
              "      <td>2</td>\n",
              "      <td>3</td>\n",
              "      <td>300</td>\n",
              "      <td>6900</td>\n",
              "    </tr>\n",
              "    <tr>\n",
              "      <th>4</th>\n",
              "      <td>CCP761U</td>\n",
              "      <td>no</td>\n",
              "      <td>yes</td>\n",
              "      <td>yes</td>\n",
              "      <td>no</td>\n",
              "      <td>1280</td>\n",
              "      <td>1080</td>\n",
              "      <td>4</td>\n",
              "      <td>3</td>\n",
              "      <td>6</td>\n",
              "      <td>2</td>\n",
              "      <td>16</td>\n",
              "      <td>3000</td>\n",
              "      <td>2</td>\n",
              "      <td>3</td>\n",
              "      <td>210</td>\n",
              "      <td>5600</td>\n",
              "    </tr>\n",
              "  </tbody>\n",
              "</table>\n",
              "</div>\n",
              "      <button class=\"colab-df-convert\" onclick=\"convertToInteractive('df-2ea978b5-83c8-44c4-92c5-3f5559d17696')\"\n",
              "              title=\"Convert this dataframe to an interactive table.\"\n",
              "              style=\"display:none;\">\n",
              "        \n",
              "  <svg xmlns=\"http://www.w3.org/2000/svg\" height=\"24px\"viewBox=\"0 0 24 24\"\n",
              "       width=\"24px\">\n",
              "    <path d=\"M0 0h24v24H0V0z\" fill=\"none\"/>\n",
              "    <path d=\"M18.56 5.44l.94 2.06.94-2.06 2.06-.94-2.06-.94-.94-2.06-.94 2.06-2.06.94zm-11 1L8.5 8.5l.94-2.06 2.06-.94-2.06-.94L8.5 2.5l-.94 2.06-2.06.94zm10 10l.94 2.06.94-2.06 2.06-.94-2.06-.94-.94-2.06-.94 2.06-2.06.94z\"/><path d=\"M17.41 7.96l-1.37-1.37c-.4-.4-.92-.59-1.43-.59-.52 0-1.04.2-1.43.59L10.3 9.45l-7.72 7.72c-.78.78-.78 2.05 0 2.83L4 21.41c.39.39.9.59 1.41.59.51 0 1.02-.2 1.41-.59l7.78-7.78 2.81-2.81c.8-.78.8-2.07 0-2.86zM5.41 20L4 18.59l7.72-7.72 1.47 1.35L5.41 20z\"/>\n",
              "  </svg>\n",
              "      </button>\n",
              "      \n",
              "  <style>\n",
              "    .colab-df-container {\n",
              "      display:flex;\n",
              "      flex-wrap:wrap;\n",
              "      gap: 12px;\n",
              "    }\n",
              "\n",
              "    .colab-df-convert {\n",
              "      background-color: #E8F0FE;\n",
              "      border: none;\n",
              "      border-radius: 50%;\n",
              "      cursor: pointer;\n",
              "      display: none;\n",
              "      fill: #1967D2;\n",
              "      height: 32px;\n",
              "      padding: 0 0 0 0;\n",
              "      width: 32px;\n",
              "    }\n",
              "\n",
              "    .colab-df-convert:hover {\n",
              "      background-color: #E2EBFA;\n",
              "      box-shadow: 0px 1px 2px rgba(60, 64, 67, 0.3), 0px 1px 3px 1px rgba(60, 64, 67, 0.15);\n",
              "      fill: #174EA6;\n",
              "    }\n",
              "\n",
              "    [theme=dark] .colab-df-convert {\n",
              "      background-color: #3B4455;\n",
              "      fill: #D2E3FC;\n",
              "    }\n",
              "\n",
              "    [theme=dark] .colab-df-convert:hover {\n",
              "      background-color: #434B5C;\n",
              "      box-shadow: 0px 1px 3px 1px rgba(0, 0, 0, 0.15);\n",
              "      filter: drop-shadow(0px 1px 2px rgba(0, 0, 0, 0.3));\n",
              "      fill: #FFFFFF;\n",
              "    }\n",
              "  </style>\n",
              "\n",
              "      <script>\n",
              "        const buttonEl =\n",
              "          document.querySelector('#df-2ea978b5-83c8-44c4-92c5-3f5559d17696 button.colab-df-convert');\n",
              "        buttonEl.style.display =\n",
              "          google.colab.kernel.accessAllowed ? 'block' : 'none';\n",
              "\n",
              "        async function convertToInteractive(key) {\n",
              "          const element = document.querySelector('#df-2ea978b5-83c8-44c4-92c5-3f5559d17696');\n",
              "          const dataTable =\n",
              "            await google.colab.kernel.invokeFunction('convertToInteractive',\n",
              "                                                     [key], {});\n",
              "          if (!dataTable) return;\n",
              "\n",
              "          const docLinkHtml = 'Like what you see? Visit the ' +\n",
              "            '<a target=\"_blank\" href=https://colab.research.google.com/notebooks/data_table.ipynb>data table notebook</a>'\n",
              "            + ' to learn more about interactive tables.';\n",
              "          element.innerHTML = '';\n",
              "          dataTable['output_type'] = 'display_data';\n",
              "          await google.colab.output.renderOutput(dataTable, element);\n",
              "          const docLink = document.createElement('div');\n",
              "          docLink.innerHTML = docLinkHtml;\n",
              "          element.appendChild(docLink);\n",
              "        }\n",
              "      </script>\n",
              "    </div>\n",
              "  </div>\n",
              "  "
            ]
          },
          "metadata": {},
          "execution_count": 3
        }
      ],
      "source": [
        "# Take a brief look at the data\n",
        "dataset.head()"
      ]
    },
    {
      "cell_type": "code",
      "execution_count": 4,
      "metadata": {
        "id": "0jdoVTnIN85_",
        "colab": {
          "base_uri": "https://localhost:8080/"
        },
        "outputId": "f57cb51c-782c-4367-b3ef-b16686165a99"
      },
      "outputs": [
        {
          "output_type": "execute_result",
          "data": {
            "text/plain": [
              "(50, 17)"
            ]
          },
          "metadata": {},
          "execution_count": 4
        }
      ],
      "source": [
        "# Get the dimensions of the dataframe\n",
        "dataset.shape\n"
      ]
    },
    {
      "cell_type": "code",
      "execution_count": 5,
      "metadata": {
        "id": "y28qZAzdN86B",
        "colab": {
          "base_uri": "https://localhost:8080/"
        },
        "outputId": "b0bbd220-d455-46cd-f266-cfa22437373b"
      },
      "outputs": [
        {
          "output_type": "execute_result",
          "data": {
            "text/plain": [
              "RangeIndex(start=0, stop=50, step=1)"
            ]
          },
          "metadata": {},
          "execution_count": 5
        }
      ],
      "source": [
        "# Get the row names of the dataframe\n",
        "dataset.index\n"
      ]
    },
    {
      "cell_type": "code",
      "execution_count": 6,
      "metadata": {
        "id": "u3wUbIm7N86C",
        "colab": {
          "base_uri": "https://localhost:8080/"
        },
        "outputId": "cab916d9-bc46-4d55-a56f-ae360e1e56b2"
      },
      "outputs": [
        {
          "output_type": "execute_result",
          "data": {
            "text/plain": [
              "Index(['PID', 'Blue', 'Wi_Fi', 'Tch_Scr', 'Ext_Mem', 'Px_h', 'Px_w', 'Scr_h',\n",
              "       'Scr_w', 'PC', 'FC', 'Int_Mem', 'Bty_Pwr', 'RAM', 'Depth', 'Weight',\n",
              "       'Price'],\n",
              "      dtype='object')"
            ]
          },
          "metadata": {},
          "execution_count": 6
        }
      ],
      "source": [
        "# Get the column names of the dataframe\n",
        "\n",
        "dataset.columns"
      ]
    },
    {
      "cell_type": "code",
      "execution_count": 7,
      "metadata": {
        "id": "zoJdOWbKN86D",
        "colab": {
          "base_uri": "https://localhost:8080/"
        },
        "outputId": "0e9d1903-7792-4b1a-d4f2-cfc6d4dd1f99"
      },
      "outputs": [
        {
          "output_type": "stream",
          "name": "stdout",
          "text": [
            "<class 'pandas.core.frame.DataFrame'>\n",
            "RangeIndex: 50 entries, 0 to 49\n",
            "Data columns (total 17 columns):\n",
            " #   Column   Non-Null Count  Dtype \n",
            "---  ------   --------------  ----- \n",
            " 0   PID      50 non-null     object\n",
            " 1   Blue     50 non-null     object\n",
            " 2   Wi_Fi    50 non-null     object\n",
            " 3   Tch_Scr  50 non-null     object\n",
            " 4   Ext_Mem  50 non-null     object\n",
            " 5   Px_h     50 non-null     int64 \n",
            " 6   Px_w     50 non-null     int64 \n",
            " 7   Scr_h    50 non-null     int64 \n",
            " 8   Scr_w    50 non-null     int64 \n",
            " 9   PC       50 non-null     int64 \n",
            " 10  FC       50 non-null     int64 \n",
            " 11  Int_Mem  50 non-null     int64 \n",
            " 12  Bty_Pwr  50 non-null     int64 \n",
            " 13  RAM      50 non-null     int64 \n",
            " 14  Depth    50 non-null     int64 \n",
            " 15  Weight   50 non-null     int64 \n",
            " 16  Price    50 non-null     int64 \n",
            "dtypes: int64(12), object(5)\n",
            "memory usage: 6.8+ KB\n"
          ]
        }
      ],
      "source": [
        "# Look at basic information about the dataframe\n",
        "\n",
        "dataset.info()"
      ]
    },
    {
      "cell_type": "markdown",
      "source": [
        "Observations:\n",
        "\n",
        "There are 50 phones in the data set.\n",
        "\n",
        "There are 17 features in the data set including the \"PID\" feature which is used as the row index labels.\n",
        "\n",
        "There are no missing values in the data set."
      ],
      "metadata": {
        "id": "Yp1sfFKKQQLR"
      }
    },
    {
      "cell_type": "code",
      "execution_count": 7,
      "metadata": {
        "id": "F7O4y4kyN86F"
      },
      "outputs": [],
      "source": []
    },
    {
      "cell_type": "markdown",
      "source": [
        "<center>Let's try some logical operators to filter the data.<center>"
      ],
      "metadata": {
        "id": "K6wSkK61E57v"
      }
    },
    {
      "cell_type": "markdown",
      "source": [
        "![](https://th.bing.com/th/id/R.0592084daa6518e4fae97f47217ec69e?rik=vNqmiaTVSSo54w&riu=http%3a%2f%2f2.bp.blogspot.com%2f-ujABms6N-Cg%2fTyYwShdTjnI%2fAAAAAAAAAAs%2fktPbHdifidc%2fs1600%2fLogical%2bOperators.PNG&ehk=ww1gl1HB2PcZwPQNHWRUvcQ631Q3mzyHSxL9G4zUKT4%3d&risl=&pid=ImgRaw&r=0,width=700,height=400)"
      ],
      "metadata": {
        "id": "Fjx3ajuFFN5H"
      }
    },
    {
      "cell_type": "markdown",
      "source": [
        "## Task 2 - Obtain the logical conditions for the features \"Blue\", \"Wi_Fi\", \"Tch_Scr\" and \"Ext_Mem\""
      ],
      "metadata": {
        "id": "zBarC8WVQZG7"
      }
    },
    {
      "cell_type": "code",
      "execution_count": 8,
      "metadata": {
        "id": "RAV76P19N86G",
        "colab": {
          "base_uri": "https://localhost:8080/"
        },
        "outputId": "ce3ce690-dd6d-4448-888a-4687fea3f4e3"
      },
      "outputs": [
        {
          "output_type": "execute_result",
          "data": {
            "text/plain": [
              "Index(['PID', 'Blue', 'Wi_Fi', 'Tch_Scr', 'Ext_Mem', 'Px_h', 'Px_w', 'Scr_h',\n",
              "       'Scr_w', 'PC', 'FC', 'Int_Mem', 'Bty_Pwr', 'RAM', 'Depth', 'Weight',\n",
              "       'Price'],\n",
              "      dtype='object')"
            ]
          },
          "metadata": {},
          "execution_count": 8
        }
      ],
      "source": [
        "# Get the feature names of the dataframe\n",
        "\n",
        "dataset.columns"
      ]
    },
    {
      "cell_type": "code",
      "execution_count": 9,
      "metadata": {
        "id": "4qnHqu_vN86H"
      },
      "outputs": [],
      "source": [
        "# Let's tackle these features: \"Blue\", \"Wi_Fi\", \"Tch_Scr\", \"Ext_Mem\""
      ]
    },
    {
      "cell_type": "code",
      "execution_count": 10,
      "metadata": {
        "id": "8N-jff5hN86I",
        "colab": {
          "base_uri": "https://localhost:8080/"
        },
        "outputId": "5c04697b-2a8c-4a09-d349-61cf48eb7850"
      },
      "outputs": [
        {
          "output_type": "execute_result",
          "data": {
            "text/plain": [
              "0    False\n",
              "1    False\n",
              "2    False\n",
              "3    False\n",
              "4    False\n",
              "dtype: bool"
            ]
          },
          "metadata": {},
          "execution_count": 10
        }
      ],
      "source": [
        "# The children want phones that have the following: Bluetooth, WiFi, touch screen and external memory support\n",
        "# Create a logical condition for this situation and store the logical values as \"con1\"\n",
        "#dataset.head()\n",
        "con1=(dataset[\"Blue\"]==\"yes\") & (dataset[\"Wi_Fi\"]==\"yes\") & (dataset[\"Tch_Scr\"]==\"yes\") & (dataset[\"Ext_Mem\"]==\"yes\")\n",
        "con1.head()"
      ]
    },
    {
      "cell_type": "markdown",
      "source": [
        "Observations:\n",
        "\n",
        "The features \"Blue\", \"Wi_Fi\", \"Tch_Scr\" and \"Ext_Mem\" are binary in nature.\n",
        "\n",
        "The children want all these features, so the logical condition \"con1\" has been obtained accordingly."
      ],
      "metadata": {
        "id": "KilesitnQjMF"
      }
    },
    {
      "cell_type": "markdown",
      "source": [
        "## Task 3 - Obtain the logical conditions for the features \"Px_h\" and \"Px_w\""
      ],
      "metadata": {
        "id": "n8qZScOZQsj3"
      }
    },
    {
      "cell_type": "code",
      "execution_count": 11,
      "metadata": {
        "id": "UgpsX9ZYN86M",
        "colab": {
          "base_uri": "https://localhost:8080/"
        },
        "outputId": "f0e5a7cf-c305-4dc2-cc3c-848bffa15ef8"
      },
      "outputs": [
        {
          "output_type": "execute_result",
          "data": {
            "text/plain": [
              "Index(['PID', 'Blue', 'Wi_Fi', 'Tch_Scr', 'Ext_Mem', 'Px_h', 'Px_w', 'Scr_h',\n",
              "       'Scr_w', 'PC', 'FC', 'Int_Mem', 'Bty_Pwr', 'RAM', 'Depth', 'Weight',\n",
              "       'Price'],\n",
              "      dtype='object')"
            ]
          },
          "metadata": {},
          "execution_count": 11
        }
      ],
      "source": [
        "# Get the feature names of the dataframe\n",
        "\n",
        "dataset.columns"
      ]
    },
    {
      "cell_type": "code",
      "execution_count": 12,
      "metadata": {
        "id": "HvY0q-JeN86N"
      },
      "outputs": [],
      "source": [
        "# Let's tackle these features: \"Px_h\", \"Px_w\""
      ]
    },
    {
      "cell_type": "code",
      "execution_count": 13,
      "metadata": {
        "id": "9g8VvPLiN86O",
        "colab": {
          "base_uri": "https://localhost:8080/",
          "height": 206
        },
        "outputId": "5df85d21-76c7-4ff2-8159-6d9bd51c9f93"
      },
      "outputs": [
        {
          "output_type": "execute_result",
          "data": {
            "text/plain": [
              "       PID Blue Wi_Fi Tch_Scr Ext_Mem  Px_h  Px_w  Scr_h  Scr_w  PC  FC  \\\n",
              "0  AAB346A  yes   yes      no      no   780   460      3      1   2   2   \n",
              "1  AAC347I  yes   yes      no      no   780   560      2      1   4   2   \n",
              "2  BAB657J   no   yes      no      no   840   720      2      1   4   2   \n",
              "3  BBD456K   no   yes     yes      no  1280  1120      5      3   6   2   \n",
              "4  CCP761U   no   yes     yes      no  1280  1080      4      3   6   2   \n",
              "\n",
              "   Int_Mem  Bty_Pwr  RAM  Depth  Weight  Price       Px  \n",
              "0        8     2800    2      7     320   3297   358800  \n",
              "1        8     3000    2      7     280   4500   436800  \n",
              "2        8     3300    2      7     400   4898   604800  \n",
              "3       32     3000    2      3     300   6900  1433600  \n",
              "4       16     3000    2      3     210   5600  1382400  "
            ],
            "text/html": [
              "\n",
              "  <div id=\"df-6ab2234c-f2b7-415a-8747-c516aac24018\">\n",
              "    <div class=\"colab-df-container\">\n",
              "      <div>\n",
              "<style scoped>\n",
              "    .dataframe tbody tr th:only-of-type {\n",
              "        vertical-align: middle;\n",
              "    }\n",
              "\n",
              "    .dataframe tbody tr th {\n",
              "        vertical-align: top;\n",
              "    }\n",
              "\n",
              "    .dataframe thead th {\n",
              "        text-align: right;\n",
              "    }\n",
              "</style>\n",
              "<table border=\"1\" class=\"dataframe\">\n",
              "  <thead>\n",
              "    <tr style=\"text-align: right;\">\n",
              "      <th></th>\n",
              "      <th>PID</th>\n",
              "      <th>Blue</th>\n",
              "      <th>Wi_Fi</th>\n",
              "      <th>Tch_Scr</th>\n",
              "      <th>Ext_Mem</th>\n",
              "      <th>Px_h</th>\n",
              "      <th>Px_w</th>\n",
              "      <th>Scr_h</th>\n",
              "      <th>Scr_w</th>\n",
              "      <th>PC</th>\n",
              "      <th>FC</th>\n",
              "      <th>Int_Mem</th>\n",
              "      <th>Bty_Pwr</th>\n",
              "      <th>RAM</th>\n",
              "      <th>Depth</th>\n",
              "      <th>Weight</th>\n",
              "      <th>Price</th>\n",
              "      <th>Px</th>\n",
              "    </tr>\n",
              "  </thead>\n",
              "  <tbody>\n",
              "    <tr>\n",
              "      <th>0</th>\n",
              "      <td>AAB346A</td>\n",
              "      <td>yes</td>\n",
              "      <td>yes</td>\n",
              "      <td>no</td>\n",
              "      <td>no</td>\n",
              "      <td>780</td>\n",
              "      <td>460</td>\n",
              "      <td>3</td>\n",
              "      <td>1</td>\n",
              "      <td>2</td>\n",
              "      <td>2</td>\n",
              "      <td>8</td>\n",
              "      <td>2800</td>\n",
              "      <td>2</td>\n",
              "      <td>7</td>\n",
              "      <td>320</td>\n",
              "      <td>3297</td>\n",
              "      <td>358800</td>\n",
              "    </tr>\n",
              "    <tr>\n",
              "      <th>1</th>\n",
              "      <td>AAC347I</td>\n",
              "      <td>yes</td>\n",
              "      <td>yes</td>\n",
              "      <td>no</td>\n",
              "      <td>no</td>\n",
              "      <td>780</td>\n",
              "      <td>560</td>\n",
              "      <td>2</td>\n",
              "      <td>1</td>\n",
              "      <td>4</td>\n",
              "      <td>2</td>\n",
              "      <td>8</td>\n",
              "      <td>3000</td>\n",
              "      <td>2</td>\n",
              "      <td>7</td>\n",
              "      <td>280</td>\n",
              "      <td>4500</td>\n",
              "      <td>436800</td>\n",
              "    </tr>\n",
              "    <tr>\n",
              "      <th>2</th>\n",
              "      <td>BAB657J</td>\n",
              "      <td>no</td>\n",
              "      <td>yes</td>\n",
              "      <td>no</td>\n",
              "      <td>no</td>\n",
              "      <td>840</td>\n",
              "      <td>720</td>\n",
              "      <td>2</td>\n",
              "      <td>1</td>\n",
              "      <td>4</td>\n",
              "      <td>2</td>\n",
              "      <td>8</td>\n",
              "      <td>3300</td>\n",
              "      <td>2</td>\n",
              "      <td>7</td>\n",
              "      <td>400</td>\n",
              "      <td>4898</td>\n",
              "      <td>604800</td>\n",
              "    </tr>\n",
              "    <tr>\n",
              "      <th>3</th>\n",
              "      <td>BBD456K</td>\n",
              "      <td>no</td>\n",
              "      <td>yes</td>\n",
              "      <td>yes</td>\n",
              "      <td>no</td>\n",
              "      <td>1280</td>\n",
              "      <td>1120</td>\n",
              "      <td>5</td>\n",
              "      <td>3</td>\n",
              "      <td>6</td>\n",
              "      <td>2</td>\n",
              "      <td>32</td>\n",
              "      <td>3000</td>\n",
              "      <td>2</td>\n",
              "      <td>3</td>\n",
              "      <td>300</td>\n",
              "      <td>6900</td>\n",
              "      <td>1433600</td>\n",
              "    </tr>\n",
              "    <tr>\n",
              "      <th>4</th>\n",
              "      <td>CCP761U</td>\n",
              "      <td>no</td>\n",
              "      <td>yes</td>\n",
              "      <td>yes</td>\n",
              "      <td>no</td>\n",
              "      <td>1280</td>\n",
              "      <td>1080</td>\n",
              "      <td>4</td>\n",
              "      <td>3</td>\n",
              "      <td>6</td>\n",
              "      <td>2</td>\n",
              "      <td>16</td>\n",
              "      <td>3000</td>\n",
              "      <td>2</td>\n",
              "      <td>3</td>\n",
              "      <td>210</td>\n",
              "      <td>5600</td>\n",
              "      <td>1382400</td>\n",
              "    </tr>\n",
              "  </tbody>\n",
              "</table>\n",
              "</div>\n",
              "      <button class=\"colab-df-convert\" onclick=\"convertToInteractive('df-6ab2234c-f2b7-415a-8747-c516aac24018')\"\n",
              "              title=\"Convert this dataframe to an interactive table.\"\n",
              "              style=\"display:none;\">\n",
              "        \n",
              "  <svg xmlns=\"http://www.w3.org/2000/svg\" height=\"24px\"viewBox=\"0 0 24 24\"\n",
              "       width=\"24px\">\n",
              "    <path d=\"M0 0h24v24H0V0z\" fill=\"none\"/>\n",
              "    <path d=\"M18.56 5.44l.94 2.06.94-2.06 2.06-.94-2.06-.94-.94-2.06-.94 2.06-2.06.94zm-11 1L8.5 8.5l.94-2.06 2.06-.94-2.06-.94L8.5 2.5l-.94 2.06-2.06.94zm10 10l.94 2.06.94-2.06 2.06-.94-2.06-.94-.94-2.06-.94 2.06-2.06.94z\"/><path d=\"M17.41 7.96l-1.37-1.37c-.4-.4-.92-.59-1.43-.59-.52 0-1.04.2-1.43.59L10.3 9.45l-7.72 7.72c-.78.78-.78 2.05 0 2.83L4 21.41c.39.39.9.59 1.41.59.51 0 1.02-.2 1.41-.59l7.78-7.78 2.81-2.81c.8-.78.8-2.07 0-2.86zM5.41 20L4 18.59l7.72-7.72 1.47 1.35L5.41 20z\"/>\n",
              "  </svg>\n",
              "      </button>\n",
              "      \n",
              "  <style>\n",
              "    .colab-df-container {\n",
              "      display:flex;\n",
              "      flex-wrap:wrap;\n",
              "      gap: 12px;\n",
              "    }\n",
              "\n",
              "    .colab-df-convert {\n",
              "      background-color: #E8F0FE;\n",
              "      border: none;\n",
              "      border-radius: 50%;\n",
              "      cursor: pointer;\n",
              "      display: none;\n",
              "      fill: #1967D2;\n",
              "      height: 32px;\n",
              "      padding: 0 0 0 0;\n",
              "      width: 32px;\n",
              "    }\n",
              "\n",
              "    .colab-df-convert:hover {\n",
              "      background-color: #E2EBFA;\n",
              "      box-shadow: 0px 1px 2px rgba(60, 64, 67, 0.3), 0px 1px 3px 1px rgba(60, 64, 67, 0.15);\n",
              "      fill: #174EA6;\n",
              "    }\n",
              "\n",
              "    [theme=dark] .colab-df-convert {\n",
              "      background-color: #3B4455;\n",
              "      fill: #D2E3FC;\n",
              "    }\n",
              "\n",
              "    [theme=dark] .colab-df-convert:hover {\n",
              "      background-color: #434B5C;\n",
              "      box-shadow: 0px 1px 3px 1px rgba(0, 0, 0, 0.15);\n",
              "      filter: drop-shadow(0px 1px 2px rgba(0, 0, 0, 0.3));\n",
              "      fill: #FFFFFF;\n",
              "    }\n",
              "  </style>\n",
              "\n",
              "      <script>\n",
              "        const buttonEl =\n",
              "          document.querySelector('#df-6ab2234c-f2b7-415a-8747-c516aac24018 button.colab-df-convert');\n",
              "        buttonEl.style.display =\n",
              "          google.colab.kernel.accessAllowed ? 'block' : 'none';\n",
              "\n",
              "        async function convertToInteractive(key) {\n",
              "          const element = document.querySelector('#df-6ab2234c-f2b7-415a-8747-c516aac24018');\n",
              "          const dataTable =\n",
              "            await google.colab.kernel.invokeFunction('convertToInteractive',\n",
              "                                                     [key], {});\n",
              "          if (!dataTable) return;\n",
              "\n",
              "          const docLinkHtml = 'Like what you see? Visit the ' +\n",
              "            '<a target=\"_blank\" href=https://colab.research.google.com/notebooks/data_table.ipynb>data table notebook</a>'\n",
              "            + ' to learn more about interactive tables.';\n",
              "          element.innerHTML = '';\n",
              "          dataTable['output_type'] = 'display_data';\n",
              "          await google.colab.output.renderOutput(dataTable, element);\n",
              "          const docLink = document.createElement('div');\n",
              "          docLink.innerHTML = docLinkHtml;\n",
              "          element.appendChild(docLink);\n",
              "        }\n",
              "      </script>\n",
              "    </div>\n",
              "  </div>\n",
              "  "
            ]
          },
          "metadata": {},
          "execution_count": 13
        }
      ],
      "source": [
        "# Create a new feature called \"Px\" which stores the total resolution of the screen\n",
        "\n",
        "#dataset.head()\n",
        "dataset[\"Px\"]=dataset[\"Px_h\"]*dataset[\"Px_w\"]\n",
        "dataset.head()"
      ]
    },
    {
      "cell_type": "code",
      "execution_count": 14,
      "metadata": {
        "id": "nbYsIHpjN86P",
        "colab": {
          "base_uri": "https://localhost:8080/",
          "height": 404
        },
        "outputId": "13bd2651-318a-4b32-85a3-4c457fb04f8e"
      },
      "outputs": [
        {
          "output_type": "display_data",
          "data": {
            "text/plain": [
              "<Figure size 792x432 with 1 Axes>"
            ],
            "image/png": "[encoded data removed]"
          },
          "metadata": {
            "needs_background": "light"
          }
        }
      ],
      "source": [
        "# Create a histogram of the \"Px\" feature and also show the mean and the median\n",
        "plt.figure(figsize=(11,6))\n",
        "sns.histplot(data=dataset,x=\"Px\",color='orange',edgecolor='linen',alpha=0.5,bins=5)\n",
        "plt.title(\"Histogram Of Px\")\n",
        "plt.xlabel(\"width\")\n",
        "plt.ylabel(\"Height\")\n",
        "plt.vlines(dataset['Px'].mean(), ymin = 0, ymax = 25, colors='blue', label='Mean')\n",
        "plt.vlines(dataset['Px'].median(), ymin = 0, ymax = 25, colors='red', label='Median')\n",
        "plt.legend()\n",
        "plt.show()"
      ]
    },
    {
      "cell_type": "code",
      "execution_count": 15,
      "metadata": {
        "id": "SxaYgagyN86Q",
        "colab": {
          "base_uri": "https://localhost:8080/"
        },
        "outputId": "7504a246-34e9-415e-c22d-b0a2ed252a3e"
      },
      "outputs": [
        {
          "output_type": "execute_result",
          "data": {
            "text/plain": [
              "0     False\n",
              "1     False\n",
              "2     False\n",
              "3     False\n",
              "4     False\n",
              "5     False\n",
              "6     False\n",
              "7      True\n",
              "8     False\n",
              "9      True\n",
              "10    False\n",
              "11    False\n",
              "12     True\n",
              "13     True\n",
              "14    False\n",
              "15    False\n",
              "16     True\n",
              "17     True\n",
              "18    False\n",
              "19     True\n",
              "20    False\n",
              "21     True\n",
              "22    False\n",
              "23     True\n",
              "24    False\n",
              "25     True\n",
              "26    False\n",
              "27     True\n",
              "28     True\n",
              "29     True\n",
              "30     True\n",
              "31     True\n",
              "32     True\n",
              "33     True\n",
              "34     True\n",
              "35     True\n",
              "36     True\n",
              "37    False\n",
              "38    False\n",
              "39    False\n",
              "40     True\n",
              "41     True\n",
              "42     True\n",
              "43     True\n",
              "44     True\n",
              "45     True\n",
              "46     True\n",
              "47     True\n",
              "48     True\n",
              "49     True\n",
              "Name: Px, dtype: bool"
            ]
          },
          "metadata": {},
          "execution_count": 15
        }
      ],
      "source": [
        "# The children want phones that have good screen resolutions\n",
        "# Consider the phones that have screen resolutions greater than or equal to the median value in the data set\n",
        "# Create a logical condition for this situation and store the logical values as \"con2\"\n",
        "\n",
        "con2=dataset[\"Px\"]>=dataset[\"Px\"].median()\n",
        "con2\n"
      ]
    },
    {
      "cell_type": "markdown",
      "source": [
        "Observations:\n",
        "\n",
        "The features \"Px_h\" and \"Px_w\" are respectively the number of pixels in the phone screen in the vertical and horizontal axes.\n",
        "\n",
        "We created a new feature called \"Px\" which is the product of the features \"Px_h\" and \"Px_w\".\n",
        "\n",
        "The median has been selected as a threshold in this case.\n",
        "\n",
        "In case it is too strict, we can choose the mean as a threshold."
      ],
      "metadata": {
        "id": "M-DC9VY2RBZQ"
      }
    },
    {
      "cell_type": "markdown",
      "source": [
        "# Task 4 - Obtain the logical conditions for the features \"Scr_h\" and \"Scr_w\""
      ],
      "metadata": {
        "id": "ih3ev8-0RJg5"
      }
    },
    {
      "cell_type": "code",
      "execution_count": 16,
      "metadata": {
        "id": "EsEcEKKTN86T"
      },
      "outputs": [],
      "source": [
        "# Let's tackle these features: \"Scr_h\", \"Scr_w\""
      ]
    },
    {
      "cell_type": "code",
      "execution_count": 17,
      "metadata": {
        "id": "qTOcx3FCN86U",
        "colab": {
          "base_uri": "https://localhost:8080/",
          "height": 206
        },
        "outputId": "edb3d3bd-130c-4bc4-ce4e-872fd5516109"
      },
      "outputs": [
        {
          "output_type": "execute_result",
          "data": {
            "text/plain": [
              "       PID Blue Wi_Fi Tch_Scr Ext_Mem  Px_h  Px_w  Scr_h  Scr_w  PC  FC  \\\n",
              "0  AAB346A  yes   yes      no      no   780   460      3      1   2   2   \n",
              "1  AAC347I  yes   yes      no      no   780   560      2      1   4   2   \n",
              "2  BAB657J   no   yes      no      no   840   720      2      1   4   2   \n",
              "3  BBD456K   no   yes     yes      no  1280  1120      5      3   6   2   \n",
              "4  CCP761U   no   yes     yes      no  1280  1080      4      3   6   2   \n",
              "\n",
              "   Int_Mem  Bty_Pwr  RAM  Depth  Weight  Price       Px     Scr_d  \n",
              "0        8     2800    2      7     320   3297   358800  3.162278  \n",
              "1        8     3000    2      7     280   4500   436800  2.236068  \n",
              "2        8     3300    2      7     400   4898   604800  2.236068  \n",
              "3       32     3000    2      3     300   6900  1433600  5.830952  \n",
              "4       16     3000    2      3     210   5600  1382400  5.000000  "
            ],
            "text/html": [
              "\n",
              "  <div id=\"df-94d70d92-ac08-488f-b3f8-ea0d5c1deef3\">\n",
              "    <div class=\"colab-df-container\">\n",
              "      <div>\n",
              "<style scoped>\n",
              "    .dataframe tbody tr th:only-of-type {\n",
              "        vertical-align: middle;\n",
              "    }\n",
              "\n",
              "    .dataframe tbody tr th {\n",
              "        vertical-align: top;\n",
              "    }\n",
              "\n",
              "    .dataframe thead th {\n",
              "        text-align: right;\n",
              "    }\n",
              "</style>\n",
              "<table border=\"1\" class=\"dataframe\">\n",
              "  <thead>\n",
              "    <tr style=\"text-align: right;\">\n",
              "      <th></th>\n",
              "      <th>PID</th>\n",
              "      <th>Blue</th>\n",
              "      <th>Wi_Fi</th>\n",
              "      <th>Tch_Scr</th>\n",
              "      <th>Ext_Mem</th>\n",
              "      <th>Px_h</th>\n",
              "      <th>Px_w</th>\n",
              "      <th>Scr_h</th>\n",
              "      <th>Scr_w</th>\n",
              "      <th>PC</th>\n",
              "      <th>FC</th>\n",
              "      <th>Int_Mem</th>\n",
              "      <th>Bty_Pwr</th>\n",
              "      <th>RAM</th>\n",
              "      <th>Depth</th>\n",
              "      <th>Weight</th>\n",
              "      <th>Price</th>\n",
              "      <th>Px</th>\n",
              "      <th>Scr_d</th>\n",
              "    </tr>\n",
              "  </thead>\n",
              "  <tbody>\n",
              "    <tr>\n",
              "      <th>0</th>\n",
              "      <td>AAB346A</td>\n",
              "      <td>yes</td>\n",
              "      <td>yes</td>\n",
              "      <td>no</td>\n",
              "      <td>no</td>\n",
              "      <td>780</td>\n",
              "      <td>460</td>\n",
              "      <td>3</td>\n",
              "      <td>1</td>\n",
              "      <td>2</td>\n",
              "      <td>2</td>\n",
              "      <td>8</td>\n",
              "      <td>2800</td>\n",
              "      <td>2</td>\n",
              "      <td>7</td>\n",
              "      <td>320</td>\n",
              "      <td>3297</td>\n",
              "      <td>358800</td>\n",
              "      <td>3.162278</td>\n",
              "    </tr>\n",
              "    <tr>\n",
              "      <th>1</th>\n",
              "      <td>AAC347I</td>\n",
              "      <td>yes</td>\n",
              "      <td>yes</td>\n",
              "      <td>no</td>\n",
              "      <td>no</td>\n",
              "      <td>780</td>\n",
              "      <td>560</td>\n",
              "      <td>2</td>\n",
              "      <td>1</td>\n",
              "      <td>4</td>\n",
              "      <td>2</td>\n",
              "      <td>8</td>\n",
              "      <td>3000</td>\n",
              "      <td>2</td>\n",
              "      <td>7</td>\n",
              "      <td>280</td>\n",
              "      <td>4500</td>\n",
              "      <td>436800</td>\n",
              "      <td>2.236068</td>\n",
              "    </tr>\n",
              "    <tr>\n",
              "      <th>2</th>\n",
              "      <td>BAB657J</td>\n",
              "      <td>no</td>\n",
              "      <td>yes</td>\n",
              "      <td>no</td>\n",
              "      <td>no</td>\n",
              "      <td>840</td>\n",
              "      <td>720</td>\n",
              "      <td>2</td>\n",
              "      <td>1</td>\n",
              "      <td>4</td>\n",
              "      <td>2</td>\n",
              "      <td>8</td>\n",
              "      <td>3300</td>\n",
              "      <td>2</td>\n",
              "      <td>7</td>\n",
              "      <td>400</td>\n",
              "      <td>4898</td>\n",
              "      <td>604800</td>\n",
              "      <td>2.236068</td>\n",
              "    </tr>\n",
              "    <tr>\n",
              "      <th>3</th>\n",
              "      <td>BBD456K</td>\n",
              "      <td>no</td>\n",
              "      <td>yes</td>\n",
              "      <td>yes</td>\n",
              "      <td>no</td>\n",
              "      <td>1280</td>\n",
              "      <td>1120</td>\n",
              "      <td>5</td>\n",
              "      <td>3</td>\n",
              "      <td>6</td>\n",
              "      <td>2</td>\n",
              "      <td>32</td>\n",
              "      <td>3000</td>\n",
              "      <td>2</td>\n",
              "      <td>3</td>\n",
              "      <td>300</td>\n",
              "      <td>6900</td>\n",
              "      <td>1433600</td>\n",
              "      <td>5.830952</td>\n",
              "    </tr>\n",
              "    <tr>\n",
              "      <th>4</th>\n",
              "      <td>CCP761U</td>\n",
              "      <td>no</td>\n",
              "      <td>yes</td>\n",
              "      <td>yes</td>\n",
              "      <td>no</td>\n",
              "      <td>1280</td>\n",
              "      <td>1080</td>\n",
              "      <td>4</td>\n",
              "      <td>3</td>\n",
              "      <td>6</td>\n",
              "      <td>2</td>\n",
              "      <td>16</td>\n",
              "      <td>3000</td>\n",
              "      <td>2</td>\n",
              "      <td>3</td>\n",
              "      <td>210</td>\n",
              "      <td>5600</td>\n",
              "      <td>1382400</td>\n",
              "      <td>5.000000</td>\n",
              "    </tr>\n",
              "  </tbody>\n",
              "</table>\n",
              "</div>\n",
              "      <button class=\"colab-df-convert\" onclick=\"convertToInteractive('df-94d70d92-ac08-488f-b3f8-ea0d5c1deef3')\"\n",
              "              title=\"Convert this dataframe to an interactive table.\"\n",
              "              style=\"display:none;\">\n",
              "        \n",
              "  <svg xmlns=\"http://www.w3.org/2000/svg\" height=\"24px\"viewBox=\"0 0 24 24\"\n",
              "       width=\"24px\">\n",
              "    <path d=\"M0 0h24v24H0V0z\" fill=\"none\"/>\n",
              "    <path d=\"M18.56 5.44l.94 2.06.94-2.06 2.06-.94-2.06-.94-.94-2.06-.94 2.06-2.06.94zm-11 1L8.5 8.5l.94-2.06 2.06-.94-2.06-.94L8.5 2.5l-.94 2.06-2.06.94zm10 10l.94 2.06.94-2.06 2.06-.94-2.06-.94-.94-2.06-.94 2.06-2.06.94z\"/><path d=\"M17.41 7.96l-1.37-1.37c-.4-.4-.92-.59-1.43-.59-.52 0-1.04.2-1.43.59L10.3 9.45l-7.72 7.72c-.78.78-.78 2.05 0 2.83L4 21.41c.39.39.9.59 1.41.59.51 0 1.02-.2 1.41-.59l7.78-7.78 2.81-2.81c.8-.78.8-2.07 0-2.86zM5.41 20L4 18.59l7.72-7.72 1.47 1.35L5.41 20z\"/>\n",
              "  </svg>\n",
              "      </button>\n",
              "      \n",
              "  <style>\n",
              "    .colab-df-container {\n",
              "      display:flex;\n",
              "      flex-wrap:wrap;\n",
              "      gap: 12px;\n",
              "    }\n",
              "\n",
              "    .colab-df-convert {\n",
              "      background-color: #E8F0FE;\n",
              "      border: none;\n",
              "      border-radius: 50%;\n",
              "      cursor: pointer;\n",
              "      display: none;\n",
              "      fill: #1967D2;\n",
              "      height: 32px;\n",
              "      padding: 0 0 0 0;\n",
              "      width: 32px;\n",
              "    }\n",
              "\n",
              "    .colab-df-convert:hover {\n",
              "      background-color: #E2EBFA;\n",
              "      box-shadow: 0px 1px 2px rgba(60, 64, 67, 0.3), 0px 1px 3px 1px rgba(60, 64, 67, 0.15);\n",
              "      fill: #174EA6;\n",
              "    }\n",
              "\n",
              "    [theme=dark] .colab-df-convert {\n",
              "      background-color: #3B4455;\n",
              "      fill: #D2E3FC;\n",
              "    }\n",
              "\n",
              "    [theme=dark] .colab-df-convert:hover {\n",
              "      background-color: #434B5C;\n",
              "      box-shadow: 0px 1px 3px 1px rgba(0, 0, 0, 0.15);\n",
              "      filter: drop-shadow(0px 1px 2px rgba(0, 0, 0, 0.3));\n",
              "      fill: #FFFFFF;\n",
              "    }\n",
              "  </style>\n",
              "\n",
              "      <script>\n",
              "        const buttonEl =\n",
              "          document.querySelector('#df-94d70d92-ac08-488f-b3f8-ea0d5c1deef3 button.colab-df-convert');\n",
              "        buttonEl.style.display =\n",
              "          google.colab.kernel.accessAllowed ? 'block' : 'none';\n",
              "\n",
              "        async function convertToInteractive(key) {\n",
              "          const element = document.querySelector('#df-94d70d92-ac08-488f-b3f8-ea0d5c1deef3');\n",
              "          const dataTable =\n",
              "            await google.colab.kernel.invokeFunction('convertToInteractive',\n",
              "                                                     [key], {});\n",
              "          if (!dataTable) return;\n",
              "\n",
              "          const docLinkHtml = 'Like what you see? Visit the ' +\n",
              "            '<a target=\"_blank\" href=https://colab.research.google.com/notebooks/data_table.ipynb>data table notebook</a>'\n",
              "            + ' to learn more about interactive tables.';\n",
              "          element.innerHTML = '';\n",
              "          dataTable['output_type'] = 'display_data';\n",
              "          await google.colab.output.renderOutput(dataTable, element);\n",
              "          const docLink = document.createElement('div');\n",
              "          docLink.innerHTML = docLinkHtml;\n",
              "          element.appendChild(docLink);\n",
              "        }\n",
              "      </script>\n",
              "    </div>\n",
              "  </div>\n",
              "  "
            ]
          },
          "metadata": {},
          "execution_count": 17
        }
      ],
      "source": [
        "# Create a new feature called \"Scr_d\" which stores the length of the diagonal of the screen of the phone\n",
        "import math\n",
        "# (dataset.Scr_h).apply(lambda x: float(x))\n",
        "# (dataset.Scr_w).apply(lambda x: float(x))\n",
        "Scr_d=np.sqrt((dataset[\"Scr_h\"]**2) + (dataset[\"Scr_w\"]**2))\n",
        "dataset['Scr_d']=Scr_d\n",
        "dataset.head()"
      ]
    },
    {
      "cell_type": "code",
      "execution_count": 18,
      "metadata": {
        "id": "83gzdEN7N86U",
        "colab": {
          "base_uri": "https://localhost:8080/",
          "height": 405
        },
        "outputId": "a279d4cf-2559-4982-fa7a-92d467489e21"
      },
      "outputs": [
        {
          "output_type": "display_data",
          "data": {
            "text/plain": [
              "<Figure size 792x432 with 1 Axes>"
            ],
            "image/png": "[encoded data removed]"
          },
          "metadata": {
            "needs_background": "light"
          }
        }
      ],
      "source": [
        "# Create a histogram of the \"Scr_d\" feature and also show the quartiles\n",
        "Q3,Q1=np.percentile(dataset[\"Scr_d\"],[75,25])\n",
        "IQR=round(Q3-Q1,2)\n",
        "plt.figure(figsize=(11,6))\n",
        "sns.histplot(data=dataset,x=\"Scr_d\",color=\"red\",edgecolor=\"linen\",alpha=0.5,bins=5)\n",
        "plt.title(\"Histogram of Screen Diagonal\")\n",
        "plt.xlabel('Scr_d')\n",
        "plt.ylabel('Count')\n",
        "plt.vlines(Q1,ymin=0,ymax=27,colors='blue',label='Lower/First Quartile')\n",
        "plt.vlines(Q3,ymin=0,ymax=27,colors='red',label='Upper/Third Quartile')\n",
        "#plt.vlines(dataset['Scr_d'].mean(), ymin = 0, ymax = 25, colors='purple', label='Mean')\n",
        "plt.legend()\n",
        "plt.show()"
      ]
    },
    {
      "cell_type": "code",
      "execution_count": 19,
      "metadata": {
        "id": "aEvL_TPSN86V",
        "colab": {
          "base_uri": "https://localhost:8080/"
        },
        "outputId": "c2a06dad-2415-481e-db2e-91e3e8d2087b"
      },
      "outputs": [
        {
          "output_type": "execute_result",
          "data": {
            "text/plain": [
              "0     False\n",
              "1     False\n",
              "2     False\n",
              "3     False\n",
              "4     False\n",
              "5     False\n",
              "6     False\n",
              "7      True\n",
              "8     False\n",
              "9     False\n",
              "10    False\n",
              "11     True\n",
              "12    False\n",
              "13    False\n",
              "14    False\n",
              "15     True\n",
              "16     True\n",
              "17     True\n",
              "18     True\n",
              "19    False\n",
              "20    False\n",
              "21     True\n",
              "22    False\n",
              "23     True\n",
              "24    False\n",
              "25    False\n",
              "26    False\n",
              "27     True\n",
              "28     True\n",
              "29     True\n",
              "30     True\n",
              "31     True\n",
              "32     True\n",
              "33     True\n",
              "34    False\n",
              "35    False\n",
              "36     True\n",
              "37    False\n",
              "38    False\n",
              "39    False\n",
              "40    False\n",
              "41     True\n",
              "42     True\n",
              "43     True\n",
              "44     True\n",
              "45     True\n",
              "46    False\n",
              "47     True\n",
              "48     True\n",
              "49     True\n",
              "Name: Scr_d, dtype: bool"
            ]
          },
          "metadata": {},
          "execution_count": 19
        }
      ],
      "source": [
        "# The children want phones that have very good screen sizes\n",
        "# Consider the phones that have screen sizes greater than or equal to the upper quartile value in the data set\n",
        "# Create a logical condition for this situation and store the logical values as \"con3\"\n",
        "#if diagonal > Q3\n",
        "con3=(dataset['Scr_d']>=Q3)\n",
        "con3"
      ]
    },
    {
      "cell_type": "markdown",
      "source": [
        "Observations:\n",
        "\n",
        "The features \"Scr_h\" and \"Scr_w\" are respectively the height and the width of the phone screen.\n",
        "\n",
        "We created a new feature called \"Scr_d\" which is essentially the length of the screen diagonal.\n",
        "\n",
        "The upper quartile has been selected as a threshold in this case as the children were very particular on this point.\n",
        "\n",
        "In case it is too strict, we can choose the mean or the median as a threshold."
      ],
      "metadata": {
        "id": "BKDitmp9RZDe"
      }
    },
    {
      "cell_type": "markdown",
      "source": [
        "# Task 5 - Obtain the logical conditions for the features \"PC\" and \"FC\""
      ],
      "metadata": {
        "id": "21dZEsZRRikD"
      }
    },
    {
      "cell_type": "code",
      "execution_count": 20,
      "metadata": {
        "id": "lCQR8DBRN86Y",
        "colab": {
          "base_uri": "https://localhost:8080/",
          "height": 206
        },
        "outputId": "f0eb6728-2f6c-4ff4-97fa-99f37c353aba"
      },
      "outputs": [
        {
          "output_type": "execute_result",
          "data": {
            "text/plain": [
              "       PID Blue Wi_Fi Tch_Scr Ext_Mem  Px_h  Px_w  Scr_h  Scr_w  PC  FC  \\\n",
              "0  AAB346A  yes   yes      no      no   780   460      3      1   2   2   \n",
              "1  AAC347I  yes   yes      no      no   780   560      2      1   4   2   \n",
              "2  BAB657J   no   yes      no      no   840   720      2      1   4   2   \n",
              "3  BBD456K   no   yes     yes      no  1280  1120      5      3   6   2   \n",
              "4  CCP761U   no   yes     yes      no  1280  1080      4      3   6   2   \n",
              "\n",
              "   Int_Mem  Bty_Pwr  RAM  Depth  Weight  Price       Px     Scr_d  \n",
              "0        8     2800    2      7     320   3297   358800  3.162278  \n",
              "1        8     3000    2      7     280   4500   436800  2.236068  \n",
              "2        8     3300    2      7     400   4898   604800  2.236068  \n",
              "3       32     3000    2      3     300   6900  1433600  5.830952  \n",
              "4       16     3000    2      3     210   5600  1382400  5.000000  "
            ],
            "text/html": [
              "\n",
              "  <div id=\"df-dcebb0eb-7236-4db5-9a7f-ea7a5fad8071\">\n",
              "    <div class=\"colab-df-container\">\n",
              "      <div>\n",
              "<style scoped>\n",
              "    .dataframe tbody tr th:only-of-type {\n",
              "        vertical-align: middle;\n",
              "    }\n",
              "\n",
              "    .dataframe tbody tr th {\n",
              "        vertical-align: top;\n",
              "    }\n",
              "\n",
              "    .dataframe thead th {\n",
              "        text-align: right;\n",
              "    }\n",
              "</style>\n",
              "<table border=\"1\" class=\"dataframe\">\n",
              "  <thead>\n",
              "    <tr style=\"text-align: right;\">\n",
              "      <th></th>\n",
              "      <th>PID</th>\n",
              "      <th>Blue</th>\n",
              "      <th>Wi_Fi</th>\n",
              "      <th>Tch_Scr</th>\n",
              "      <th>Ext_Mem</th>\n",
              "      <th>Px_h</th>\n",
              "      <th>Px_w</th>\n",
              "      <th>Scr_h</th>\n",
              "      <th>Scr_w</th>\n",
              "      <th>PC</th>\n",
              "      <th>FC</th>\n",
              "      <th>Int_Mem</th>\n",
              "      <th>Bty_Pwr</th>\n",
              "      <th>RAM</th>\n",
              "      <th>Depth</th>\n",
              "      <th>Weight</th>\n",
              "      <th>Price</th>\n",
              "      <th>Px</th>\n",
              "      <th>Scr_d</th>\n",
              "    </tr>\n",
              "  </thead>\n",
              "  <tbody>\n",
              "    <tr>\n",
              "      <th>0</th>\n",
              "      <td>AAB346A</td>\n",
              "      <td>yes</td>\n",
              "      <td>yes</td>\n",
              "      <td>no</td>\n",
              "      <td>no</td>\n",
              "      <td>780</td>\n",
              "      <td>460</td>\n",
              "      <td>3</td>\n",
              "      <td>1</td>\n",
              "      <td>2</td>\n",
              "      <td>2</td>\n",
              "      <td>8</td>\n",
              "      <td>2800</td>\n",
              "      <td>2</td>\n",
              "      <td>7</td>\n",
              "      <td>320</td>\n",
              "      <td>3297</td>\n",
              "      <td>358800</td>\n",
              "      <td>3.162278</td>\n",
              "    </tr>\n",
              "    <tr>\n",
              "      <th>1</th>\n",
              "      <td>AAC347I</td>\n",
              "      <td>yes</td>\n",
              "      <td>yes</td>\n",
              "      <td>no</td>\n",
              "      <td>no</td>\n",
              "      <td>780</td>\n",
              "      <td>560</td>\n",
              "      <td>2</td>\n",
              "      <td>1</td>\n",
              "      <td>4</td>\n",
              "      <td>2</td>\n",
              "      <td>8</td>\n",
              "      <td>3000</td>\n",
              "      <td>2</td>\n",
              "      <td>7</td>\n",
              "      <td>280</td>\n",
              "      <td>4500</td>\n",
              "      <td>436800</td>\n",
              "      <td>2.236068</td>\n",
              "    </tr>\n",
              "    <tr>\n",
              "      <th>2</th>\n",
              "      <td>BAB657J</td>\n",
              "      <td>no</td>\n",
              "      <td>yes</td>\n",
              "      <td>no</td>\n",
              "      <td>no</td>\n",
              "      <td>840</td>\n",
              "      <td>720</td>\n",
              "      <td>2</td>\n",
              "      <td>1</td>\n",
              "      <td>4</td>\n",
              "      <td>2</td>\n",
              "      <td>8</td>\n",
              "      <td>3300</td>\n",
              "      <td>2</td>\n",
              "      <td>7</td>\n",
              "      <td>400</td>\n",
              "      <td>4898</td>\n",
              "      <td>604800</td>\n",
              "      <td>2.236068</td>\n",
              "    </tr>\n",
              "    <tr>\n",
              "      <th>3</th>\n",
              "      <td>BBD456K</td>\n",
              "      <td>no</td>\n",
              "      <td>yes</td>\n",
              "      <td>yes</td>\n",
              "      <td>no</td>\n",
              "      <td>1280</td>\n",
              "      <td>1120</td>\n",
              "      <td>5</td>\n",
              "      <td>3</td>\n",
              "      <td>6</td>\n",
              "      <td>2</td>\n",
              "      <td>32</td>\n",
              "      <td>3000</td>\n",
              "      <td>2</td>\n",
              "      <td>3</td>\n",
              "      <td>300</td>\n",
              "      <td>6900</td>\n",
              "      <td>1433600</td>\n",
              "      <td>5.830952</td>\n",
              "    </tr>\n",
              "    <tr>\n",
              "      <th>4</th>\n",
              "      <td>CCP761U</td>\n",
              "      <td>no</td>\n",
              "      <td>yes</td>\n",
              "      <td>yes</td>\n",
              "      <td>no</td>\n",
              "      <td>1280</td>\n",
              "      <td>1080</td>\n",
              "      <td>4</td>\n",
              "      <td>3</td>\n",
              "      <td>6</td>\n",
              "      <td>2</td>\n",
              "      <td>16</td>\n",
              "      <td>3000</td>\n",
              "      <td>2</td>\n",
              "      <td>3</td>\n",
              "      <td>210</td>\n",
              "      <td>5600</td>\n",
              "      <td>1382400</td>\n",
              "      <td>5.000000</td>\n",
              "    </tr>\n",
              "  </tbody>\n",
              "</table>\n",
              "</div>\n",
              "      <button class=\"colab-df-convert\" onclick=\"convertToInteractive('df-dcebb0eb-7236-4db5-9a7f-ea7a5fad8071')\"\n",
              "              title=\"Convert this dataframe to an interactive table.\"\n",
              "              style=\"display:none;\">\n",
              "        \n",
              "  <svg xmlns=\"http://www.w3.org/2000/svg\" height=\"24px\"viewBox=\"0 0 24 24\"\n",
              "       width=\"24px\">\n",
              "    <path d=\"M0 0h24v24H0V0z\" fill=\"none\"/>\n",
              "    <path d=\"M18.56 5.44l.94 2.06.94-2.06 2.06-.94-2.06-.94-.94-2.06-.94 2.06-2.06.94zm-11 1L8.5 8.5l.94-2.06 2.06-.94-2.06-.94L8.5 2.5l-.94 2.06-2.06.94zm10 10l.94 2.06.94-2.06 2.06-.94-2.06-.94-.94-2.06-.94 2.06-2.06.94z\"/><path d=\"M17.41 7.96l-1.37-1.37c-.4-.4-.92-.59-1.43-.59-.52 0-1.04.2-1.43.59L10.3 9.45l-7.72 7.72c-.78.78-.78 2.05 0 2.83L4 21.41c.39.39.9.59 1.41.59.51 0 1.02-.2 1.41-.59l7.78-7.78 2.81-2.81c.8-.78.8-2.07 0-2.86zM5.41 20L4 18.59l7.72-7.72 1.47 1.35L5.41 20z\"/>\n",
              "  </svg>\n",
              "      </button>\n",
              "      \n",
              "  <style>\n",
              "    .colab-df-container {\n",
              "      display:flex;\n",
              "      flex-wrap:wrap;\n",
              "      gap: 12px;\n",
              "    }\n",
              "\n",
              "    .colab-df-convert {\n",
              "      background-color: #E8F0FE;\n",
              "      border: none;\n",
              "      border-radius: 50%;\n",
              "      cursor: pointer;\n",
              "      display: none;\n",
              "      fill: #1967D2;\n",
              "      height: 32px;\n",
              "      padding: 0 0 0 0;\n",
              "      width: 32px;\n",
              "    }\n",
              "\n",
              "    .colab-df-convert:hover {\n",
              "      background-color: #E2EBFA;\n",
              "      box-shadow: 0px 1px 2px rgba(60, 64, 67, 0.3), 0px 1px 3px 1px rgba(60, 64, 67, 0.15);\n",
              "      fill: #174EA6;\n",
              "    }\n",
              "\n",
              "    [theme=dark] .colab-df-convert {\n",
              "      background-color: #3B4455;\n",
              "      fill: #D2E3FC;\n",
              "    }\n",
              "\n",
              "    [theme=dark] .colab-df-convert:hover {\n",
              "      background-color: #434B5C;\n",
              "      box-shadow: 0px 1px 3px 1px rgba(0, 0, 0, 0.15);\n",
              "      filter: drop-shadow(0px 1px 2px rgba(0, 0, 0, 0.3));\n",
              "      fill: #FFFFFF;\n",
              "    }\n",
              "  </style>\n",
              "\n",
              "      <script>\n",
              "        const buttonEl =\n",
              "          document.querySelector('#df-dcebb0eb-7236-4db5-9a7f-ea7a5fad8071 button.colab-df-convert');\n",
              "        buttonEl.style.display =\n",
              "          google.colab.kernel.accessAllowed ? 'block' : 'none';\n",
              "\n",
              "        async function convertToInteractive(key) {\n",
              "          const element = document.querySelector('#df-dcebb0eb-7236-4db5-9a7f-ea7a5fad8071');\n",
              "          const dataTable =\n",
              "            await google.colab.kernel.invokeFunction('convertToInteractive',\n",
              "                                                     [key], {});\n",
              "          if (!dataTable) return;\n",
              "\n",
              "          const docLinkHtml = 'Like what you see? Visit the ' +\n",
              "            '<a target=\"_blank\" href=https://colab.research.google.com/notebooks/data_table.ipynb>data table notebook</a>'\n",
              "            + ' to learn more about interactive tables.';\n",
              "          element.innerHTML = '';\n",
              "          dataTable['output_type'] = 'display_data';\n",
              "          await google.colab.output.renderOutput(dataTable, element);\n",
              "          const docLink = document.createElement('div');\n",
              "          docLink.innerHTML = docLinkHtml;\n",
              "          element.appendChild(docLink);\n",
              "        }\n",
              "      </script>\n",
              "    </div>\n",
              "  </div>\n",
              "  "
            ]
          },
          "metadata": {},
          "execution_count": 20
        }
      ],
      "source": [
        "# Let's tackle these features: \"PC\", \"FC\"\n",
        "dataset.head()"
      ]
    },
    {
      "cell_type": "code",
      "execution_count": 21,
      "metadata": {
        "id": "KtH-XWmqN86Z",
        "colab": {
          "base_uri": "https://localhost:8080/",
          "height": 404
        },
        "outputId": "562d145c-f20f-4193-c157-2872b7519555"
      },
      "outputs": [
        {
          "output_type": "display_data",
          "data": {
            "text/plain": [
              "<Figure size 792x432 with 1 Axes>"
            ],
            "image/png": "[encoded data removed]"
          },
          "metadata": {
            "needs_background": "light"
          }
        }
      ],
      "source": [
        "# Create a histogram of the \"PC\" feature and also show the mean and the median\n",
        "plt.figure(figsize=(11,6))\n",
        "sns.histplot(data=dataset,x=\"PC\",color='orange',edgecolor='linen',alpha=0.5,bins=5)\n",
        "plt.title(\"Histogram Of PC\")\n",
        "plt.xlabel(\"PC\")\n",
        "plt.ylabel(\"Count\")\n",
        "plt.vlines(dataset['PC'].mean(), ymin = 0, ymax = 25, colors='blue', label='Mean')\n",
        "plt.vlines(dataset['PC'].median(), ymin = 0, ymax = 25, colors='red', label='Median')\n",
        "plt.legend()\n",
        "plt.show()\n",
        "\n"
      ]
    },
    {
      "cell_type": "code",
      "execution_count": 22,
      "metadata": {
        "id": "vMp3OWR0N86a",
        "colab": {
          "base_uri": "https://localhost:8080/",
          "height": 404
        },
        "outputId": "9ce99df9-6b5c-4d73-b30d-4a7ff55ef959"
      },
      "outputs": [
        {
          "output_type": "display_data",
          "data": {
            "text/plain": [
              "<Figure size 792x432 with 1 Axes>"
            ],
            "image/png": "[encoded data removed]"
          },
          "metadata": {
            "needs_background": "light"
          }
        }
      ],
      "source": [
        "# Create a histogram of the \"FC\" feature and also show the mean and the median\n",
        "plt.figure(figsize=(11,6))\n",
        "sns.histplot(data=dataset,x=\"FC\",color='orange',edgecolor='linen',alpha=0.5,bins=5)\n",
        "plt.title(\"Histogram Of FC\")\n",
        "plt.xlabel(\"FC\")\n",
        "plt.ylabel(\"Count\")\n",
        "plt.vlines(dataset['FC'].mean(), ymin = 0, ymax = 25, colors='blue', label='Mean')\n",
        "plt.vlines(dataset['FC'].median(), ymin = 0, ymax = 25, colors='red', label='Median')\n",
        "plt.legend()\n",
        "plt.show()\n",
        "\n"
      ]
    },
    {
      "cell_type": "code",
      "execution_count": 23,
      "metadata": {
        "id": "uwOY8IGoN86a",
        "colab": {
          "base_uri": "https://localhost:8080/"
        },
        "outputId": "71c0f6f3-15a7-44e0-b2cd-859bc67abef9"
      },
      "outputs": [
        {
          "output_type": "execute_result",
          "data": {
            "text/plain": [
              "0     False\n",
              "1     False\n",
              "2     False\n",
              "3     False\n",
              "4     False\n",
              "5     False\n",
              "6     False\n",
              "7     False\n",
              "8     False\n",
              "9      True\n",
              "10    False\n",
              "11     True\n",
              "12     True\n",
              "13    False\n",
              "14    False\n",
              "15    False\n",
              "16     True\n",
              "17    False\n",
              "18    False\n",
              "19    False\n",
              "20    False\n",
              "21     True\n",
              "22    False\n",
              "23    False\n",
              "24    False\n",
              "25     True\n",
              "26    False\n",
              "27    False\n",
              "28     True\n",
              "29    False\n",
              "30     True\n",
              "31    False\n",
              "32     True\n",
              "33     True\n",
              "34     True\n",
              "35    False\n",
              "36     True\n",
              "37     True\n",
              "38     True\n",
              "39    False\n",
              "40     True\n",
              "41    False\n",
              "42     True\n",
              "43    False\n",
              "44     True\n",
              "45     True\n",
              "46     True\n",
              "47     True\n",
              "48     True\n",
              "49     True\n",
              "dtype: bool"
            ]
          },
          "metadata": {},
          "execution_count": 23
        }
      ],
      "source": [
        "# The children want phones that have good primary and front camera resolutions\n",
        "# Consider the phones that have primary and front camera resolutions greater than or equal to their respective mean values\n",
        "# Create a logical condition for this situation and store the logical values as \"con4\"\n",
        "\n",
        "con4=(dataset['PC']>=dataset['PC'].mean()) & (dataset['FC']>=dataset['FC'].mean())\n",
        "con4"
      ]
    },
    {
      "cell_type": "markdown",
      "source": [
        "Observations:\n",
        "\n",
        "The features \"PC\" and \"FC\" are respectively the resolutions of the primary camera and the front camera.\n",
        "\n",
        "The respective means have been selected as thresholds in this case.\n",
        "\n",
        "In case it is too strict, we can choose the respective medians as thresholds."
      ],
      "metadata": {
        "id": "jo7yqfJSRvNT"
      }
    },
    {
      "cell_type": "markdown",
      "source": [
        "# Task 6 - Obtain the logical conditions for the features \"Int_Mem\", \"Bty_Pwr\" and \"RAM\""
      ],
      "metadata": {
        "id": "iu0E_MTAR3Pn"
      }
    },
    {
      "cell_type": "code",
      "execution_count": 24,
      "metadata": {
        "id": "tnBJk7xFN86d",
        "colab": {
          "base_uri": "https://localhost:8080/"
        },
        "outputId": "07c3a64f-2974-483d-e4bd-388c2a6b73f5"
      },
      "outputs": [
        {
          "output_type": "execute_result",
          "data": {
            "text/plain": [
              "173.76"
            ]
          },
          "metadata": {},
          "execution_count": 24
        }
      ],
      "source": [
        "# Let's tackle these features: \"Int_Mem\", \"Bty_Pwr\", \"RAM\"\n",
        "dataset['Int_Mem'].mean()"
      ]
    },
    {
      "cell_type": "code",
      "execution_count": 25,
      "metadata": {
        "id": "YMBT6fVEN86e",
        "colab": {
          "base_uri": "https://localhost:8080/",
          "height": 405
        },
        "outputId": "ede63c0c-714a-40b8-fbc2-fbcd1977c69a"
      },
      "outputs": [
        {
          "output_type": "display_data",
          "data": {
            "text/plain": [
              "<Figure size 792x432 with 1 Axes>"
            ],
            "image/png": "[encoded data removed]"
          },
          "metadata": {
            "needs_background": "light"
          }
        }
      ],
      "source": [
        "# Create a histogram of the \"Int_Mem\" feature and also show the mean and the median\n",
        "plt.figure(figsize=(11,6))\n",
        "sns.histplot(data=dataset,x=\"Int_Mem\",color='orange',edgecolor='linen',alpha=0.5,bins=5)\n",
        "plt.title(\"Histogram Of Int_Mem\")\n",
        "plt.xlabel(\"Int_Mem\")\n",
        "plt.ylabel(\"Count\")\n",
        "plt.vlines(dataset['Int_Mem'].mean(), ymin = 0, ymax = 25, colors='blue', label='Mean')\n",
        "plt.vlines(dataset['Int_Mem'].median(), ymin = 0, ymax = 25, colors='red', label='Median')\n",
        "plt.legend()\n",
        "plt.show()\n",
        "\n"
      ]
    },
    {
      "cell_type": "code",
      "execution_count": 26,
      "metadata": {
        "id": "oPjFp16vN86e",
        "colab": {
          "base_uri": "https://localhost:8080/",
          "height": 405
        },
        "outputId": "6d9eef8e-ad46-4834-ee88-6573be33c5b7"
      },
      "outputs": [
        {
          "output_type": "display_data",
          "data": {
            "text/plain": [
              "<Figure size 792x432 with 1 Axes>"
            ],
            "image/png": "[encoded data removed]"
          },
          "metadata": {
            "needs_background": "light"
          }
        }
      ],
      "source": [
        "# Create a histogram of the \"Bty_Pwr\" feature and also show the mean and the median\n",
        "plt.figure(figsize=(11,6))\n",
        "sns.histplot(data=dataset,x=\"Bty_Pwr\",color='orange',edgecolor='linen',alpha=0.5,bins=5)\n",
        "plt.title(\"Histogram Of Btw_Pwr\")\n",
        "plt.xlabel(\"Bty_Pwr\")\n",
        "plt.ylabel(\"Count\")\n",
        "plt.vlines(dataset['Bty_Pwr'].mean(), ymin = 0, ymax = 25, colors='blue', label='Mean')\n",
        "plt.vlines(dataset['Bty_Pwr'].median(), ymin = 0, ymax = 25, colors='red', label='Median')\n",
        "plt.legend()\n",
        "plt.show()\n",
        "\n"
      ]
    },
    {
      "cell_type": "code",
      "source": [
        "dataset['Bty_Pwr'].mean()"
      ],
      "metadata": {
        "colab": {
          "base_uri": "https://localhost:8080/"
        },
        "id": "QaFNUH157nMU",
        "outputId": "4787f7b2-039e-4e54-cfd8-90131cf99eec"
      },
      "execution_count": 27,
      "outputs": [
        {
          "output_type": "execute_result",
          "data": {
            "text/plain": [
              "3740.0"
            ]
          },
          "metadata": {},
          "execution_count": 27
        }
      ]
    },
    {
      "cell_type": "code",
      "execution_count": 28,
      "metadata": {
        "id": "TS83YmlQN86f",
        "colab": {
          "base_uri": "https://localhost:8080/",
          "height": 404
        },
        "outputId": "04c4a2b9-87d0-41dd-caf8-d18a28cd8292"
      },
      "outputs": [
        {
          "output_type": "display_data",
          "data": {
            "text/plain": [
              "<Figure size 792x432 with 1 Axes>"
            ],
            "image/png": "[encoded data removed]"
          },
          "metadata": {
            "needs_background": "light"
          }
        }
      ],
      "source": [
        "# Create a histogram of the \"RAM\" feature and also show the mean and the median\n",
        "plt.figure(figsize=(11,6))\n",
        "sns.histplot(data=dataset,x=\"RAM\",color='orange',edgecolor='linen',alpha=0.5,bins=5)\n",
        "plt.title(\"Histogram Of RAM\")\n",
        "plt.xlabel(\"RAM\")\n",
        "plt.ylabel(\"Count\")\n",
        "plt.vlines(dataset['RAM'].mean(), ymin = 0, ymax = 25, colors='blue', label='Mean')\n",
        "plt.vlines(dataset['RAM'].median(), ymin = 0, ymax = 25, colors='red', label='Median')\n",
        "plt.legend()\n",
        "plt.show()\n",
        "\n"
      ]
    },
    {
      "cell_type": "code",
      "source": [
        "dataset['RAM'].mean()"
      ],
      "metadata": {
        "colab": {
          "base_uri": "https://localhost:8080/"
        },
        "id": "GfhWJ8T88BNS",
        "outputId": "09284f71-fdee-441f-e731-b54a10d3c658"
      },
      "execution_count": 29,
      "outputs": [
        {
          "output_type": "execute_result",
          "data": {
            "text/plain": [
              "5.76"
            ]
          },
          "metadata": {},
          "execution_count": 29
        }
      ]
    },
    {
      "cell_type": "code",
      "execution_count": 30,
      "metadata": {
        "id": "Ty-VGMoDN86g",
        "colab": {
          "base_uri": "https://localhost:8080/"
        },
        "outputId": "ffb23fd2-0907-487f-bb10-df3735257289"
      },
      "outputs": [
        {
          "output_type": "execute_result",
          "data": {
            "text/plain": [
              "0     False\n",
              "1     False\n",
              "2     False\n",
              "3     False\n",
              "4     False\n",
              "5     False\n",
              "6     False\n",
              "7     False\n",
              "8     False\n",
              "9     False\n",
              "10    False\n",
              "11    False\n",
              "12    False\n",
              "13    False\n",
              "14    False\n",
              "15    False\n",
              "16    False\n",
              "17    False\n",
              "18    False\n",
              "19    False\n",
              "20    False\n",
              "21    False\n",
              "22    False\n",
              "23    False\n",
              "24    False\n",
              "25    False\n",
              "26    False\n",
              "27    False\n",
              "28     True\n",
              "29     True\n",
              "30     True\n",
              "31    False\n",
              "32     True\n",
              "33    False\n",
              "34    False\n",
              "35    False\n",
              "36    False\n",
              "37    False\n",
              "38    False\n",
              "39    False\n",
              "40    False\n",
              "41    False\n",
              "42     True\n",
              "43    False\n",
              "44     True\n",
              "45    False\n",
              "46    False\n",
              "47     True\n",
              "48     True\n",
              "49     True\n",
              "dtype: bool"
            ]
          },
          "metadata": {},
          "execution_count": 30
        }
      ],
      "source": [
        "# The children want phones that have good internal memory, battery power and RAM\n",
        "# Consider the phones that have internal memory, battery power and RAM greater than or equal to their respective mean values\n",
        "# Create a logical condition for this situation and store the logical values as \"con5\"\n",
        "con5=(dataset['Int_Mem']>=dataset['Int_Mem'].mean()) & (dataset['Bty_Pwr']>=dataset['Bty_Pwr'].mean()) & (dataset['RAM']>=dataset['RAM'].mean())\n",
        "con5\n"
      ]
    },
    {
      "cell_type": "markdown",
      "source": [
        "Observations\n",
        "\n",
        "The features \"Int_Mem\", \"Bty_Pwr\" and \"RAM\" are respectively the internal memory, battery power and RAM of the phones.\n",
        "\n",
        "The respective means have been selected as thresholds in this case.\n",
        "\n",
        ".In case it is too strict, we can choose the respective medians as thresholds"
      ],
      "metadata": {
        "id": "u5RzvXKoSHaw"
      }
    },
    {
      "cell_type": "markdown",
      "source": [
        "# Task 7 - Obtain the logical conditions for the features \"Depth\" and \"Weight\""
      ],
      "metadata": {
        "id": "VVeYghyESO9y"
      }
    },
    {
      "cell_type": "code",
      "execution_count": 31,
      "metadata": {
        "id": "07nm7-V1N86j"
      },
      "outputs": [],
      "source": [
        "# Let's tackle these features: \"Depth\", \"Weight\""
      ]
    },
    {
      "cell_type": "code",
      "execution_count": 32,
      "metadata": {
        "id": "e88FFbusN86k",
        "colab": {
          "base_uri": "https://localhost:8080/",
          "height": 404
        },
        "outputId": "062de3bb-021f-48a0-b6d6-7968f12d93ba"
      },
      "outputs": [
        {
          "output_type": "display_data",
          "data": {
            "text/plain": [
              "<Figure size 792x432 with 1 Axes>"
            ],
            "image/png": "[encoded data removed]"
          },
          "metadata": {
            "needs_background": "light"
          }
        }
      ],
      "source": [
        "# Create a histogram of the \"Depth\" feature and also show the mean and the median\n",
        "plt.figure(figsize=(11,6))\n",
        "sns.histplot(data=dataset,x=\"Depth\",color='orange',edgecolor='linen',alpha=0.5,bins=5)\n",
        "plt.title(\"Histogram Of Depth\")\n",
        "plt.xlabel(\"Depth\")\n",
        "plt.ylabel(\"Count\")\n",
        "plt.vlines(dataset['Depth'].mean(), ymin = 0, ymax = 25, colors='blue', label='Mean')\n",
        "plt.vlines(dataset['Depth'].median(), ymin = 0, ymax = 25, colors='red', label='Median')\n",
        "plt.legend()\n",
        "plt.show()\n",
        "\n"
      ]
    },
    {
      "cell_type": "code",
      "source": [
        "dataset['Depth'].mean()"
      ],
      "metadata": {
        "colab": {
          "base_uri": "https://localhost:8080/"
        },
        "id": "sn1wTBmU88u4",
        "outputId": "0d9532b6-e71f-4ea5-ffca-98a43e5e01af"
      },
      "execution_count": 33,
      "outputs": [
        {
          "output_type": "execute_result",
          "data": {
            "text/plain": [
              "3.44"
            ]
          },
          "metadata": {},
          "execution_count": 33
        }
      ]
    },
    {
      "cell_type": "code",
      "execution_count": 34,
      "metadata": {
        "id": "-lXTqLttN86l",
        "colab": {
          "base_uri": "https://localhost:8080/",
          "height": 404
        },
        "outputId": "1605eb86-bc34-4d35-e2db-1af35383624a"
      },
      "outputs": [
        {
          "output_type": "display_data",
          "data": {
            "text/plain": [
              "<Figure size 792x432 with 1 Axes>"
            ],
            "image/png": "[encoded data removed]"
          },
          "metadata": {
            "needs_background": "light"
          }
        }
      ],
      "source": [
        "# Create a histogram of the \"Weight\" feature and also show the mean and the median\n",
        "plt.figure(figsize=(11,6))\n",
        "sns.histplot(data=dataset,x=\"Weight\",color='orange',edgecolor='linen',alpha=0.5,bins=5)\n",
        "plt.title(\"Histogram Of Weight\")\n",
        "plt.xlabel(\"Weight\")\n",
        "plt.ylabel(\"Count\")\n",
        "plt.vlines(dataset['Weight'].mean(), ymin = 0, ymax = 25, colors='blue', label='Mean')\n",
        "plt.vlines(dataset['Weight'].median(), ymin = 0, ymax = 25, colors='red', label='Median')\n",
        "plt.legend()\n",
        "plt.show()\n",
        "\n"
      ]
    },
    {
      "cell_type": "code",
      "source": [
        "dataset['Weight'].mean()"
      ],
      "metadata": {
        "colab": {
          "base_uri": "https://localhost:8080/"
        },
        "id": "OCn19Kfi9NqI",
        "outputId": "6dd1c9cd-7e4d-4e91-fcb0-16475137b310"
      },
      "execution_count": 35,
      "outputs": [
        {
          "output_type": "execute_result",
          "data": {
            "text/plain": [
              "195.2"
            ]
          },
          "metadata": {},
          "execution_count": 35
        }
      ]
    },
    {
      "cell_type": "code",
      "execution_count": 36,
      "metadata": {
        "id": "7ZYJmwzJN86l",
        "colab": {
          "base_uri": "https://localhost:8080/"
        },
        "outputId": "ac336527-bc94-4d66-d0a9-98502024c336"
      },
      "outputs": [
        {
          "output_type": "execute_result",
          "data": {
            "text/plain": [
              "0     False\n",
              "1     False\n",
              "2     False\n",
              "3     False\n",
              "4     False\n",
              "5     False\n",
              "6      True\n",
              "7      True\n",
              "8      True\n",
              "9      True\n",
              "10    False\n",
              "11    False\n",
              "12    False\n",
              "13    False\n",
              "14    False\n",
              "15    False\n",
              "16     True\n",
              "17    False\n",
              "18    False\n",
              "19    False\n",
              "20     True\n",
              "21     True\n",
              "22     True\n",
              "23     True\n",
              "24     True\n",
              "25    False\n",
              "26    False\n",
              "27    False\n",
              "28    False\n",
              "29    False\n",
              "30     True\n",
              "31     True\n",
              "32     True\n",
              "33     True\n",
              "34    False\n",
              "35    False\n",
              "36    False\n",
              "37    False\n",
              "38    False\n",
              "39    False\n",
              "40    False\n",
              "41     True\n",
              "42     True\n",
              "43    False\n",
              "44    False\n",
              "45    False\n",
              "46    False\n",
              "47     True\n",
              "48     True\n",
              "49     True\n",
              "dtype: bool"
            ]
          },
          "metadata": {},
          "execution_count": 36
        }
      ],
      "source": [
        "# The children want phones that are light weight and slim\n",
        "# Consider the phones that have depth and weight less than or equal to the respective median values in the data set\n",
        "# Create a logical condition for this situation and store the logical values as \"con6\"\n",
        "con6=(dataset['Depth']<=dataset['Depth'].median()) & (dataset['Weight']<=dataset['Weight'].median())\n",
        "con6\n"
      ]
    },
    {
      "cell_type": "markdown",
      "source": [
        "Observations:\n",
        "\n",
        "The features \"Depth\" and \"Weight\" are respectively the depth of the phone and the weight of the phone.\n",
        "\n",
        "The respective medians have been selected as thresholds in this case.\n",
        "\n",
        "In case it is too strict, we can choose the respective means as thresholds."
      ],
      "metadata": {
        "id": "l32BIHsdSbHy"
      }
    },
    {
      "cell_type": "markdown",
      "source": [
        "# Task 8 - Subset the data based on all the logical conditions"
      ],
      "metadata": {
        "id": "3UYMHQseSjZp"
      }
    },
    {
      "cell_type": "code",
      "execution_count": 37,
      "metadata": {
        "id": "iKFweH2xN86o",
        "colab": {
          "base_uri": "https://localhost:8080/",
          "height": 143
        },
        "outputId": "a0e458e3-3907-4abd-b2b1-13ab7c0906f9"
      },
      "outputs": [
        {
          "output_type": "execute_result",
          "data": {
            "text/plain": [
              "        PID Blue Wi_Fi Tch_Scr Ext_Mem  Px_h  Px_w  Scr_h  Scr_w  PC  FC  \\\n",
              "30  TVF078Y  yes   yes     yes     yes  2580  2120      8      6  64  32   \n",
              "32  TYS938L  yes   yes     yes     yes  2580  2120      8      6  64  32   \n",
              "42  WZB298K  yes   yes     yes     yes  2580  1980      8      6  64  32   \n",
              "\n",
              "    Int_Mem  Bty_Pwr  RAM  Depth  Weight  Price       Px  Scr_d  \n",
              "30      512     4860    8      3      90  29999  5469600   10.0  \n",
              "32     1024     4860    8      3     120  46777  5469600   10.0  \n",
              "42     1024     5600    8      3     160  39000  5108400   10.0  "
            ],
            "text/html": [
              "\n",
              "  <div id=\"df-f0472b5b-6b48-4bd8-a864-b6cfc42d42dc\">\n",
              "    <div class=\"colab-df-container\">\n",
              "      <div>\n",
              "<style scoped>\n",
              "    .dataframe tbody tr th:only-of-type {\n",
              "        vertical-align: middle;\n",
              "    }\n",
              "\n",
              "    .dataframe tbody tr th {\n",
              "        vertical-align: top;\n",
              "    }\n",
              "\n",
              "    .dataframe thead th {\n",
              "        text-align: right;\n",
              "    }\n",
              "</style>\n",
              "<table border=\"1\" class=\"dataframe\">\n",
              "  <thead>\n",
              "    <tr style=\"text-align: right;\">\n",
              "      <th></th>\n",
              "      <th>PID</th>\n",
              "      <th>Blue</th>\n",
              "      <th>Wi_Fi</th>\n",
              "      <th>Tch_Scr</th>\n",
              "      <th>Ext_Mem</th>\n",
              "      <th>Px_h</th>\n",
              "      <th>Px_w</th>\n",
              "      <th>Scr_h</th>\n",
              "      <th>Scr_w</th>\n",
              "      <th>PC</th>\n",
              "      <th>FC</th>\n",
              "      <th>Int_Mem</th>\n",
              "      <th>Bty_Pwr</th>\n",
              "      <th>RAM</th>\n",
              "      <th>Depth</th>\n",
              "      <th>Weight</th>\n",
              "      <th>Price</th>\n",
              "      <th>Px</th>\n",
              "      <th>Scr_d</th>\n",
              "    </tr>\n",
              "  </thead>\n",
              "  <tbody>\n",
              "    <tr>\n",
              "      <th>30</th>\n",
              "      <td>TVF078Y</td>\n",
              "      <td>yes</td>\n",
              "      <td>yes</td>\n",
              "      <td>yes</td>\n",
              "      <td>yes</td>\n",
              "      <td>2580</td>\n",
              "      <td>2120</td>\n",
              "      <td>8</td>\n",
              "      <td>6</td>\n",
              "      <td>64</td>\n",
              "      <td>32</td>\n",
              "      <td>512</td>\n",
              "      <td>4860</td>\n",
              "      <td>8</td>\n",
              "      <td>3</td>\n",
              "      <td>90</td>\n",
              "      <td>29999</td>\n",
              "      <td>5469600</td>\n",
              "      <td>10.0</td>\n",
              "    </tr>\n",
              "    <tr>\n",
              "      <th>32</th>\n",
              "      <td>TYS938L</td>\n",
              "      <td>yes</td>\n",
              "      <td>yes</td>\n",
              "      <td>yes</td>\n",
              "      <td>yes</td>\n",
              "      <td>2580</td>\n",
              "      <td>2120</td>\n",
              "      <td>8</td>\n",
              "      <td>6</td>\n",
              "      <td>64</td>\n",
              "      <td>32</td>\n",
              "      <td>1024</td>\n",
              "      <td>4860</td>\n",
              "      <td>8</td>\n",
              "      <td>3</td>\n",
              "      <td>120</td>\n",
              "      <td>46777</td>\n",
              "      <td>5469600</td>\n",
              "      <td>10.0</td>\n",
              "    </tr>\n",
              "    <tr>\n",
              "      <th>42</th>\n",
              "      <td>WZB298K</td>\n",
              "      <td>yes</td>\n",
              "      <td>yes</td>\n",
              "      <td>yes</td>\n",
              "      <td>yes</td>\n",
              "      <td>2580</td>\n",
              "      <td>1980</td>\n",
              "      <td>8</td>\n",
              "      <td>6</td>\n",
              "      <td>64</td>\n",
              "      <td>32</td>\n",
              "      <td>1024</td>\n",
              "      <td>5600</td>\n",
              "      <td>8</td>\n",
              "      <td>3</td>\n",
              "      <td>160</td>\n",
              "      <td>39000</td>\n",
              "      <td>5108400</td>\n",
              "      <td>10.0</td>\n",
              "    </tr>\n",
              "  </tbody>\n",
              "</table>\n",
              "</div>\n",
              "      <button class=\"colab-df-convert\" onclick=\"convertToInteractive('df-f0472b5b-6b48-4bd8-a864-b6cfc42d42dc')\"\n",
              "              title=\"Convert this dataframe to an interactive table.\"\n",
              "              style=\"display:none;\">\n",
              "        \n",
              "  <svg xmlns=\"http://www.w3.org/2000/svg\" height=\"24px\"viewBox=\"0 0 24 24\"\n",
              "       width=\"24px\">\n",
              "    <path d=\"M0 0h24v24H0V0z\" fill=\"none\"/>\n",
              "    <path d=\"M18.56 5.44l.94 2.06.94-2.06 2.06-.94-2.06-.94-.94-2.06-.94 2.06-2.06.94zm-11 1L8.5 8.5l.94-2.06 2.06-.94-2.06-.94L8.5 2.5l-.94 2.06-2.06.94zm10 10l.94 2.06.94-2.06 2.06-.94-2.06-.94-.94-2.06-.94 2.06-2.06.94z\"/><path d=\"M17.41 7.96l-1.37-1.37c-.4-.4-.92-.59-1.43-.59-.52 0-1.04.2-1.43.59L10.3 9.45l-7.72 7.72c-.78.78-.78 2.05 0 2.83L4 21.41c.39.39.9.59 1.41.59.51 0 1.02-.2 1.41-.59l7.78-7.78 2.81-2.81c.8-.78.8-2.07 0-2.86zM5.41 20L4 18.59l7.72-7.72 1.47 1.35L5.41 20z\"/>\n",
              "  </svg>\n",
              "      </button>\n",
              "      \n",
              "  <style>\n",
              "    .colab-df-container {\n",
              "      display:flex;\n",
              "      flex-wrap:wrap;\n",
              "      gap: 12px;\n",
              "    }\n",
              "\n",
              "    .colab-df-convert {\n",
              "      background-color: #E8F0FE;\n",
              "      border: none;\n",
              "      border-radius: 50%;\n",
              "      cursor: pointer;\n",
              "      display: none;\n",
              "      fill: #1967D2;\n",
              "      height: 32px;\n",
              "      padding: 0 0 0 0;\n",
              "      width: 32px;\n",
              "    }\n",
              "\n",
              "    .colab-df-convert:hover {\n",
              "      background-color: #E2EBFA;\n",
              "      box-shadow: 0px 1px 2px rgba(60, 64, 67, 0.3), 0px 1px 3px 1px rgba(60, 64, 67, 0.15);\n",
              "      fill: #174EA6;\n",
              "    }\n",
              "\n",
              "    [theme=dark] .colab-df-convert {\n",
              "      background-color: #3B4455;\n",
              "      fill: #D2E3FC;\n",
              "    }\n",
              "\n",
              "    [theme=dark] .colab-df-convert:hover {\n",
              "      background-color: #434B5C;\n",
              "      box-shadow: 0px 1px 3px 1px rgba(0, 0, 0, 0.15);\n",
              "      filter: drop-shadow(0px 1px 2px rgba(0, 0, 0, 0.3));\n",
              "      fill: #FFFFFF;\n",
              "    }\n",
              "  </style>\n",
              "\n",
              "      <script>\n",
              "        const buttonEl =\n",
              "          document.querySelector('#df-f0472b5b-6b48-4bd8-a864-b6cfc42d42dc button.colab-df-convert');\n",
              "        buttonEl.style.display =\n",
              "          google.colab.kernel.accessAllowed ? 'block' : 'none';\n",
              "\n",
              "        async function convertToInteractive(key) {\n",
              "          const element = document.querySelector('#df-f0472b5b-6b48-4bd8-a864-b6cfc42d42dc');\n",
              "          const dataTable =\n",
              "            await google.colab.kernel.invokeFunction('convertToInteractive',\n",
              "                                                     [key], {});\n",
              "          if (!dataTable) return;\n",
              "\n",
              "          const docLinkHtml = 'Like what you see? Visit the ' +\n",
              "            '<a target=\"_blank\" href=https://colab.research.google.com/notebooks/data_table.ipynb>data table notebook</a>'\n",
              "            + ' to learn more about interactive tables.';\n",
              "          element.innerHTML = '';\n",
              "          dataTable['output_type'] = 'display_data';\n",
              "          await google.colab.output.renderOutput(dataTable, element);\n",
              "          const docLink = document.createElement('div');\n",
              "          docLink.innerHTML = docLinkHtml;\n",
              "          element.appendChild(docLink);\n",
              "        }\n",
              "      </script>\n",
              "    </div>\n",
              "  </div>\n",
              "  "
            ]
          },
          "metadata": {},
          "execution_count": 37
        }
      ],
      "source": [
        "# Subset the dataframe using all the logical conditions that have been stored\n",
        "# Store the subset of the dataframe as a new dataframe called \"df1\"\n",
        "\n",
        "df1= dataset[(dataset['Depth']<=dataset['Depth'].median()) & (dataset['Weight']<=dataset['Weight'].median()) & (dataset['Int_Mem']>=dataset['Int_Mem'].mean()) & (dataset['Bty_Pwr']>=dataset['Bty_Pwr'].mean()) & (dataset['RAM']>=dataset['RAM'].mean()) & (dataset['PC']>=dataset['PC'].mean()) & (dataset['FC']>=dataset['FC'].mean()) & (dataset['Scr_d']>=Q3) & (dataset[\"Px\"]>=dataset[\"Px\"].median()) & (dataset[\"Blue\"]==\"yes\") & (dataset[\"Wi_Fi\"]==\"yes\") & (dataset[\"Tch_Scr\"]==\"yes\") & (dataset[\"Ext_Mem\"]==\"yes\")]\n",
        "df1"
      ]
    },
    {
      "cell_type": "code",
      "source": [
        "df1= dataset[con1 & con2 & con3 & con4 & con5 & con6]\n",
        "df1"
      ],
      "metadata": {
        "colab": {
          "base_uri": "https://localhost:8080/",
          "height": 143
        },
        "id": "Wy38p6z5DPle",
        "outputId": "7fa744bf-aa38-4284-807e-35fe6bda1318"
      },
      "execution_count": 38,
      "outputs": [
        {
          "output_type": "execute_result",
          "data": {
            "text/plain": [
              "        PID Blue Wi_Fi Tch_Scr Ext_Mem  Px_h  Px_w  Scr_h  Scr_w  PC  FC  \\\n",
              "30  TVF078Y  yes   yes     yes     yes  2580  2120      8      6  64  32   \n",
              "32  TYS938L  yes   yes     yes     yes  2580  2120      8      6  64  32   \n",
              "42  WZB298K  yes   yes     yes     yes  2580  1980      8      6  64  32   \n",
              "\n",
              "    Int_Mem  Bty_Pwr  RAM  Depth  Weight  Price       Px  Scr_d  \n",
              "30      512     4860    8      3      90  29999  5469600   10.0  \n",
              "32     1024     4860    8      3     120  46777  5469600   10.0  \n",
              "42     1024     5600    8      3     160  39000  5108400   10.0  "
            ],
            "text/html": [
              "\n",
              "  <div id=\"df-b77236eb-ce87-4a86-928f-73542705b56d\">\n",
              "    <div class=\"colab-df-container\">\n",
              "      <div>\n",
              "<style scoped>\n",
              "    .dataframe tbody tr th:only-of-type {\n",
              "        vertical-align: middle;\n",
              "    }\n",
              "\n",
              "    .dataframe tbody tr th {\n",
              "        vertical-align: top;\n",
              "    }\n",
              "\n",
              "    .dataframe thead th {\n",
              "        text-align: right;\n",
              "    }\n",
              "</style>\n",
              "<table border=\"1\" class=\"dataframe\">\n",
              "  <thead>\n",
              "    <tr style=\"text-align: right;\">\n",
              "      <th></th>\n",
              "      <th>PID</th>\n",
              "      <th>Blue</th>\n",
              "      <th>Wi_Fi</th>\n",
              "      <th>Tch_Scr</th>\n",
              "      <th>Ext_Mem</th>\n",
              "      <th>Px_h</th>\n",
              "      <th>Px_w</th>\n",
              "      <th>Scr_h</th>\n",
              "      <th>Scr_w</th>\n",
              "      <th>PC</th>\n",
              "      <th>FC</th>\n",
              "      <th>Int_Mem</th>\n",
              "      <th>Bty_Pwr</th>\n",
              "      <th>RAM</th>\n",
              "      <th>Depth</th>\n",
              "      <th>Weight</th>\n",
              "      <th>Price</th>\n",
              "      <th>Px</th>\n",
              "      <th>Scr_d</th>\n",
              "    </tr>\n",
              "  </thead>\n",
              "  <tbody>\n",
              "    <tr>\n",
              "      <th>30</th>\n",
              "      <td>TVF078Y</td>\n",
              "      <td>yes</td>\n",
              "      <td>yes</td>\n",
              "      <td>yes</td>\n",
              "      <td>yes</td>\n",
              "      <td>2580</td>\n",
              "      <td>2120</td>\n",
              "      <td>8</td>\n",
              "      <td>6</td>\n",
              "      <td>64</td>\n",
              "      <td>32</td>\n",
              "      <td>512</td>\n",
              "      <td>4860</td>\n",
              "      <td>8</td>\n",
              "      <td>3</td>\n",
              "      <td>90</td>\n",
              "      <td>29999</td>\n",
              "      <td>5469600</td>\n",
              "      <td>10.0</td>\n",
              "    </tr>\n",
              "    <tr>\n",
              "      <th>32</th>\n",
              "      <td>TYS938L</td>\n",
              "      <td>yes</td>\n",
              "      <td>yes</td>\n",
              "      <td>yes</td>\n",
              "      <td>yes</td>\n",
              "      <td>2580</td>\n",
              "      <td>2120</td>\n",
              "      <td>8</td>\n",
              "      <td>6</td>\n",
              "      <td>64</td>\n",
              "      <td>32</td>\n",
              "      <td>1024</td>\n",
              "      <td>4860</td>\n",
              "      <td>8</td>\n",
              "      <td>3</td>\n",
              "      <td>120</td>\n",
              "      <td>46777</td>\n",
              "      <td>5469600</td>\n",
              "      <td>10.0</td>\n",
              "    </tr>\n",
              "    <tr>\n",
              "      <th>42</th>\n",
              "      <td>WZB298K</td>\n",
              "      <td>yes</td>\n",
              "      <td>yes</td>\n",
              "      <td>yes</td>\n",
              "      <td>yes</td>\n",
              "      <td>2580</td>\n",
              "      <td>1980</td>\n",
              "      <td>8</td>\n",
              "      <td>6</td>\n",
              "      <td>64</td>\n",
              "      <td>32</td>\n",
              "      <td>1024</td>\n",
              "      <td>5600</td>\n",
              "      <td>8</td>\n",
              "      <td>3</td>\n",
              "      <td>160</td>\n",
              "      <td>39000</td>\n",
              "      <td>5108400</td>\n",
              "      <td>10.0</td>\n",
              "    </tr>\n",
              "  </tbody>\n",
              "</table>\n",
              "</div>\n",
              "      <button class=\"colab-df-convert\" onclick=\"convertToInteractive('df-b77236eb-ce87-4a86-928f-73542705b56d')\"\n",
              "              title=\"Convert this dataframe to an interactive table.\"\n",
              "              style=\"display:none;\">\n",
              "        \n",
              "  <svg xmlns=\"http://www.w3.org/2000/svg\" height=\"24px\"viewBox=\"0 0 24 24\"\n",
              "       width=\"24px\">\n",
              "    <path d=\"M0 0h24v24H0V0z\" fill=\"none\"/>\n",
              "    <path d=\"M18.56 5.44l.94 2.06.94-2.06 2.06-.94-2.06-.94-.94-2.06-.94 2.06-2.06.94zm-11 1L8.5 8.5l.94-2.06 2.06-.94-2.06-.94L8.5 2.5l-.94 2.06-2.06.94zm10 10l.94 2.06.94-2.06 2.06-.94-2.06-.94-.94-2.06-.94 2.06-2.06.94z\"/><path d=\"M17.41 7.96l-1.37-1.37c-.4-.4-.92-.59-1.43-.59-.52 0-1.04.2-1.43.59L10.3 9.45l-7.72 7.72c-.78.78-.78 2.05 0 2.83L4 21.41c.39.39.9.59 1.41.59.51 0 1.02-.2 1.41-.59l7.78-7.78 2.81-2.81c.8-.78.8-2.07 0-2.86zM5.41 20L4 18.59l7.72-7.72 1.47 1.35L5.41 20z\"/>\n",
              "  </svg>\n",
              "      </button>\n",
              "      \n",
              "  <style>\n",
              "    .colab-df-container {\n",
              "      display:flex;\n",
              "      flex-wrap:wrap;\n",
              "      gap: 12px;\n",
              "    }\n",
              "\n",
              "    .colab-df-convert {\n",
              "      background-color: #E8F0FE;\n",
              "      border: none;\n",
              "      border-radius: 50%;\n",
              "      cursor: pointer;\n",
              "      display: none;\n",
              "      fill: #1967D2;\n",
              "      height: 32px;\n",
              "      padding: 0 0 0 0;\n",
              "      width: 32px;\n",
              "    }\n",
              "\n",
              "    .colab-df-convert:hover {\n",
              "      background-color: #E2EBFA;\n",
              "      box-shadow: 0px 1px 2px rgba(60, 64, 67, 0.3), 0px 1px 3px 1px rgba(60, 64, 67, 0.15);\n",
              "      fill: #174EA6;\n",
              "    }\n",
              "\n",
              "    [theme=dark] .colab-df-convert {\n",
              "      background-color: #3B4455;\n",
              "      fill: #D2E3FC;\n",
              "    }\n",
              "\n",
              "    [theme=dark] .colab-df-convert:hover {\n",
              "      background-color: #434B5C;\n",
              "      box-shadow: 0px 1px 3px 1px rgba(0, 0, 0, 0.15);\n",
              "      filter: drop-shadow(0px 1px 2px rgba(0, 0, 0, 0.3));\n",
              "      fill: #FFFFFF;\n",
              "    }\n",
              "  </style>\n",
              "\n",
              "      <script>\n",
              "        const buttonEl =\n",
              "          document.querySelector('#df-b77236eb-ce87-4a86-928f-73542705b56d button.colab-df-convert');\n",
              "        buttonEl.style.display =\n",
              "          google.colab.kernel.accessAllowed ? 'block' : 'none';\n",
              "\n",
              "        async function convertToInteractive(key) {\n",
              "          const element = document.querySelector('#df-b77236eb-ce87-4a86-928f-73542705b56d');\n",
              "          const dataTable =\n",
              "            await google.colab.kernel.invokeFunction('convertToInteractive',\n",
              "                                                     [key], {});\n",
              "          if (!dataTable) return;\n",
              "\n",
              "          const docLinkHtml = 'Like what you see? Visit the ' +\n",
              "            '<a target=\"_blank\" href=https://colab.research.google.com/notebooks/data_table.ipynb>data table notebook</a>'\n",
              "            + ' to learn more about interactive tables.';\n",
              "          element.innerHTML = '';\n",
              "          dataTable['output_type'] = 'display_data';\n",
              "          await google.colab.output.renderOutput(dataTable, element);\n",
              "          const docLink = document.createElement('div');\n",
              "          docLink.innerHTML = docLinkHtml;\n",
              "          element.appendChild(docLink);\n",
              "        }\n",
              "      </script>\n",
              "    </div>\n",
              "  </div>\n",
              "  "
            ]
          },
          "metadata": {},
          "execution_count": 38
        }
      ]
    },
    {
      "cell_type": "code",
      "execution_count": 39,
      "metadata": {
        "id": "Y0Bp7BKkN86o",
        "colab": {
          "base_uri": "https://localhost:8080/"
        },
        "outputId": "60c4995b-c50c-4d94-c8bc-0d98d650983a"
      },
      "outputs": [
        {
          "output_type": "execute_result",
          "data": {
            "text/plain": [
              "(3, 19)"
            ]
          },
          "metadata": {},
          "execution_count": 39
        }
      ],
      "source": [
        "# Get the dimensions of the dataframe\n",
        "df1.shape\n"
      ]
    },
    {
      "cell_type": "code",
      "execution_count": 40,
      "metadata": {
        "id": "H5tg2OEkN86p",
        "colab": {
          "base_uri": "https://localhost:8080/",
          "height": 234
        },
        "outputId": "31483a70-2165-44aa-be8c-7b1273cbada8"
      },
      "outputs": [
        {
          "output_type": "stream",
          "name": "stderr",
          "text": [
            "/usr/local/lib/python3.8/dist-packages/pandas/util/_decorators.py:311: SettingWithCopyWarning: \n",
            "A value is trying to be set on a copy of a slice from a DataFrame\n",
            "\n",
            "See the caveats in the documentation: https://pandas.pydata.org/pandas-docs/stable/user_guide/indexing.html#returning-a-view-versus-a-copy\n",
            "  return func(*args, **kwargs)\n"
          ]
        },
        {
          "output_type": "execute_result",
          "data": {
            "text/plain": [
              "        PID Blue Wi_Fi Tch_Scr Ext_Mem  Px_h  Px_w  Scr_h  Scr_w  PC  FC  \\\n",
              "30  TVF078Y  yes   yes     yes     yes  2580  2120      8      6  64  32   \n",
              "42  WZB298K  yes   yes     yes     yes  2580  1980      8      6  64  32   \n",
              "32  TYS938L  yes   yes     yes     yes  2580  2120      8      6  64  32   \n",
              "\n",
              "    Int_Mem  Bty_Pwr  RAM  Depth  Weight  Price       Px  Scr_d  \n",
              "30      512     4860    8      3      90  29999  5469600   10.0  \n",
              "42     1024     5600    8      3     160  39000  5108400   10.0  \n",
              "32     1024     4860    8      3     120  46777  5469600   10.0  "
            ],
            "text/html": [
              "\n",
              "  <div id=\"df-6e70a5c1-19ed-4518-b9bc-75b5eb9c6857\">\n",
              "    <div class=\"colab-df-container\">\n",
              "      <div>\n",
              "<style scoped>\n",
              "    .dataframe tbody tr th:only-of-type {\n",
              "        vertical-align: middle;\n",
              "    }\n",
              "\n",
              "    .dataframe tbody tr th {\n",
              "        vertical-align: top;\n",
              "    }\n",
              "\n",
              "    .dataframe thead th {\n",
              "        text-align: right;\n",
              "    }\n",
              "</style>\n",
              "<table border=\"1\" class=\"dataframe\">\n",
              "  <thead>\n",
              "    <tr style=\"text-align: right;\">\n",
              "      <th></th>\n",
              "      <th>PID</th>\n",
              "      <th>Blue</th>\n",
              "      <th>Wi_Fi</th>\n",
              "      <th>Tch_Scr</th>\n",
              "      <th>Ext_Mem</th>\n",
              "      <th>Px_h</th>\n",
              "      <th>Px_w</th>\n",
              "      <th>Scr_h</th>\n",
              "      <th>Scr_w</th>\n",
              "      <th>PC</th>\n",
              "      <th>FC</th>\n",
              "      <th>Int_Mem</th>\n",
              "      <th>Bty_Pwr</th>\n",
              "      <th>RAM</th>\n",
              "      <th>Depth</th>\n",
              "      <th>Weight</th>\n",
              "      <th>Price</th>\n",
              "      <th>Px</th>\n",
              "      <th>Scr_d</th>\n",
              "    </tr>\n",
              "  </thead>\n",
              "  <tbody>\n",
              "    <tr>\n",
              "      <th>30</th>\n",
              "      <td>TVF078Y</td>\n",
              "      <td>yes</td>\n",
              "      <td>yes</td>\n",
              "      <td>yes</td>\n",
              "      <td>yes</td>\n",
              "      <td>2580</td>\n",
              "      <td>2120</td>\n",
              "      <td>8</td>\n",
              "      <td>6</td>\n",
              "      <td>64</td>\n",
              "      <td>32</td>\n",
              "      <td>512</td>\n",
              "      <td>4860</td>\n",
              "      <td>8</td>\n",
              "      <td>3</td>\n",
              "      <td>90</td>\n",
              "      <td>29999</td>\n",
              "      <td>5469600</td>\n",
              "      <td>10.0</td>\n",
              "    </tr>\n",
              "    <tr>\n",
              "      <th>42</th>\n",
              "      <td>WZB298K</td>\n",
              "      <td>yes</td>\n",
              "      <td>yes</td>\n",
              "      <td>yes</td>\n",
              "      <td>yes</td>\n",
              "      <td>2580</td>\n",
              "      <td>1980</td>\n",
              "      <td>8</td>\n",
              "      <td>6</td>\n",
              "      <td>64</td>\n",
              "      <td>32</td>\n",
              "      <td>1024</td>\n",
              "      <td>5600</td>\n",
              "      <td>8</td>\n",
              "      <td>3</td>\n",
              "      <td>160</td>\n",
              "      <td>39000</td>\n",
              "      <td>5108400</td>\n",
              "      <td>10.0</td>\n",
              "    </tr>\n",
              "    <tr>\n",
              "      <th>32</th>\n",
              "      <td>TYS938L</td>\n",
              "      <td>yes</td>\n",
              "      <td>yes</td>\n",
              "      <td>yes</td>\n",
              "      <td>yes</td>\n",
              "      <td>2580</td>\n",
              "      <td>2120</td>\n",
              "      <td>8</td>\n",
              "      <td>6</td>\n",
              "      <td>64</td>\n",
              "      <td>32</td>\n",
              "      <td>1024</td>\n",
              "      <td>4860</td>\n",
              "      <td>8</td>\n",
              "      <td>3</td>\n",
              "      <td>120</td>\n",
              "      <td>46777</td>\n",
              "      <td>5469600</td>\n",
              "      <td>10.0</td>\n",
              "    </tr>\n",
              "  </tbody>\n",
              "</table>\n",
              "</div>\n",
              "      <button class=\"colab-df-convert\" onclick=\"convertToInteractive('df-6e70a5c1-19ed-4518-b9bc-75b5eb9c6857')\"\n",
              "              title=\"Convert this dataframe to an interactive table.\"\n",
              "              style=\"display:none;\">\n",
              "        \n",
              "  <svg xmlns=\"http://www.w3.org/2000/svg\" height=\"24px\"viewBox=\"0 0 24 24\"\n",
              "       width=\"24px\">\n",
              "    <path d=\"M0 0h24v24H0V0z\" fill=\"none\"/>\n",
              "    <path d=\"M18.56 5.44l.94 2.06.94-2.06 2.06-.94-2.06-.94-.94-2.06-.94 2.06-2.06.94zm-11 1L8.5 8.5l.94-2.06 2.06-.94-2.06-.94L8.5 2.5l-.94 2.06-2.06.94zm10 10l.94 2.06.94-2.06 2.06-.94-2.06-.94-.94-2.06-.94 2.06-2.06.94z\"/><path d=\"M17.41 7.96l-1.37-1.37c-.4-.4-.92-.59-1.43-.59-.52 0-1.04.2-1.43.59L10.3 9.45l-7.72 7.72c-.78.78-.78 2.05 0 2.83L4 21.41c.39.39.9.59 1.41.59.51 0 1.02-.2 1.41-.59l7.78-7.78 2.81-2.81c.8-.78.8-2.07 0-2.86zM5.41 20L4 18.59l7.72-7.72 1.47 1.35L5.41 20z\"/>\n",
              "  </svg>\n",
              "      </button>\n",
              "      \n",
              "  <style>\n",
              "    .colab-df-container {\n",
              "      display:flex;\n",
              "      flex-wrap:wrap;\n",
              "      gap: 12px;\n",
              "    }\n",
              "\n",
              "    .colab-df-convert {\n",
              "      background-color: #E8F0FE;\n",
              "      border: none;\n",
              "      border-radius: 50%;\n",
              "      cursor: pointer;\n",
              "      display: none;\n",
              "      fill: #1967D2;\n",
              "      height: 32px;\n",
              "      padding: 0 0 0 0;\n",
              "      width: 32px;\n",
              "    }\n",
              "\n",
              "    .colab-df-convert:hover {\n",
              "      background-color: #E2EBFA;\n",
              "      box-shadow: 0px 1px 2px rgba(60, 64, 67, 0.3), 0px 1px 3px 1px rgba(60, 64, 67, 0.15);\n",
              "      fill: #174EA6;\n",
              "    }\n",
              "\n",
              "    [theme=dark] .colab-df-convert {\n",
              "      background-color: #3B4455;\n",
              "      fill: #D2E3FC;\n",
              "    }\n",
              "\n",
              "    [theme=dark] .colab-df-convert:hover {\n",
              "      background-color: #434B5C;\n",
              "      box-shadow: 0px 1px 3px 1px rgba(0, 0, 0, 0.15);\n",
              "      filter: drop-shadow(0px 1px 2px rgba(0, 0, 0, 0.3));\n",
              "      fill: #FFFFFF;\n",
              "    }\n",
              "  </style>\n",
              "\n",
              "      <script>\n",
              "        const buttonEl =\n",
              "          document.querySelector('#df-6e70a5c1-19ed-4518-b9bc-75b5eb9c6857 button.colab-df-convert');\n",
              "        buttonEl.style.display =\n",
              "          google.colab.kernel.accessAllowed ? 'block' : 'none';\n",
              "\n",
              "        async function convertToInteractive(key) {\n",
              "          const element = document.querySelector('#df-6e70a5c1-19ed-4518-b9bc-75b5eb9c6857');\n",
              "          const dataTable =\n",
              "            await google.colab.kernel.invokeFunction('convertToInteractive',\n",
              "                                                     [key], {});\n",
              "          if (!dataTable) return;\n",
              "\n",
              "          const docLinkHtml = 'Like what you see? Visit the ' +\n",
              "            '<a target=\"_blank\" href=https://colab.research.google.com/notebooks/data_table.ipynb>data table notebook</a>'\n",
              "            + ' to learn more about interactive tables.';\n",
              "          element.innerHTML = '';\n",
              "          dataTable['output_type'] = 'display_data';\n",
              "          await google.colab.output.renderOutput(dataTable, element);\n",
              "          const docLink = document.createElement('div');\n",
              "          docLink.innerHTML = docLinkHtml;\n",
              "          element.appendChild(docLink);\n",
              "        }\n",
              "      </script>\n",
              "    </div>\n",
              "  </div>\n",
              "  "
            ]
          },
          "metadata": {},
          "execution_count": 40
        }
      ],
      "source": [
        "# Sort the dataframe according to the \"Price\" feature in ascending order and display it\n",
        "df1.sort_values(by=[\"Price\"],inplace=True)\n",
        "df1"
      ]
    },
    {
      "cell_type": "code",
      "source": [
        "df1=df1.sort_values(by=[\"Price\"],ascending=False)\n",
        "df1"
      ],
      "metadata": {
        "colab": {
          "base_uri": "https://localhost:8080/",
          "height": 143
        },
        "id": "_fg5cPypFJYV",
        "outputId": "9a70e3e7-2be7-40de-dd40-d56e3ebd8b1b"
      },
      "execution_count": 41,
      "outputs": [
        {
          "output_type": "execute_result",
          "data": {
            "text/plain": [
              "        PID Blue Wi_Fi Tch_Scr Ext_Mem  Px_h  Px_w  Scr_h  Scr_w  PC  FC  \\\n",
              "32  TYS938L  yes   yes     yes     yes  2580  2120      8      6  64  32   \n",
              "42  WZB298K  yes   yes     yes     yes  2580  1980      8      6  64  32   \n",
              "30  TVF078Y  yes   yes     yes     yes  2580  2120      8      6  64  32   \n",
              "\n",
              "    Int_Mem  Bty_Pwr  RAM  Depth  Weight  Price       Px  Scr_d  \n",
              "32     1024     4860    8      3     120  46777  5469600   10.0  \n",
              "42     1024     5600    8      3     160  39000  5108400   10.0  \n",
              "30      512     4860    8      3      90  29999  5469600   10.0  "
            ],
            "text/html": [
              "\n",
              "  <div id=\"df-9766853f-da15-4c6e-ba72-31e1eb4ab6d6\">\n",
              "    <div class=\"colab-df-container\">\n",
              "      <div>\n",
              "<style scoped>\n",
              "    .dataframe tbody tr th:only-of-type {\n",
              "        vertical-align: middle;\n",
              "    }\n",
              "\n",
              "    .dataframe tbody tr th {\n",
              "        vertical-align: top;\n",
              "    }\n",
              "\n",
              "    .dataframe thead th {\n",
              "        text-align: right;\n",
              "    }\n",
              "</style>\n",
              "<table border=\"1\" class=\"dataframe\">\n",
              "  <thead>\n",
              "    <tr style=\"text-align: right;\">\n",
              "      <th></th>\n",
              "      <th>PID</th>\n",
              "      <th>Blue</th>\n",
              "      <th>Wi_Fi</th>\n",
              "      <th>Tch_Scr</th>\n",
              "      <th>Ext_Mem</th>\n",
              "      <th>Px_h</th>\n",
              "      <th>Px_w</th>\n",
              "      <th>Scr_h</th>\n",
              "      <th>Scr_w</th>\n",
              "      <th>PC</th>\n",
              "      <th>FC</th>\n",
              "      <th>Int_Mem</th>\n",
              "      <th>Bty_Pwr</th>\n",
              "      <th>RAM</th>\n",
              "      <th>Depth</th>\n",
              "      <th>Weight</th>\n",
              "      <th>Price</th>\n",
              "      <th>Px</th>\n",
              "      <th>Scr_d</th>\n",
              "    </tr>\n",
              "  </thead>\n",
              "  <tbody>\n",
              "    <tr>\n",
              "      <th>32</th>\n",
              "      <td>TYS938L</td>\n",
              "      <td>yes</td>\n",
              "      <td>yes</td>\n",
              "      <td>yes</td>\n",
              "      <td>yes</td>\n",
              "      <td>2580</td>\n",
              "      <td>2120</td>\n",
              "      <td>8</td>\n",
              "      <td>6</td>\n",
              "      <td>64</td>\n",
              "      <td>32</td>\n",
              "      <td>1024</td>\n",
              "      <td>4860</td>\n",
              "      <td>8</td>\n",
              "      <td>3</td>\n",
              "      <td>120</td>\n",
              "      <td>46777</td>\n",
              "      <td>5469600</td>\n",
              "      <td>10.0</td>\n",
              "    </tr>\n",
              "    <tr>\n",
              "      <th>42</th>\n",
              "      <td>WZB298K</td>\n",
              "      <td>yes</td>\n",
              "      <td>yes</td>\n",
              "      <td>yes</td>\n",
              "      <td>yes</td>\n",
              "      <td>2580</td>\n",
              "      <td>1980</td>\n",
              "      <td>8</td>\n",
              "      <td>6</td>\n",
              "      <td>64</td>\n",
              "      <td>32</td>\n",
              "      <td>1024</td>\n",
              "      <td>5600</td>\n",
              "      <td>8</td>\n",
              "      <td>3</td>\n",
              "      <td>160</td>\n",
              "      <td>39000</td>\n",
              "      <td>5108400</td>\n",
              "      <td>10.0</td>\n",
              "    </tr>\n",
              "    <tr>\n",
              "      <th>30</th>\n",
              "      <td>TVF078Y</td>\n",
              "      <td>yes</td>\n",
              "      <td>yes</td>\n",
              "      <td>yes</td>\n",
              "      <td>yes</td>\n",
              "      <td>2580</td>\n",
              "      <td>2120</td>\n",
              "      <td>8</td>\n",
              "      <td>6</td>\n",
              "      <td>64</td>\n",
              "      <td>32</td>\n",
              "      <td>512</td>\n",
              "      <td>4860</td>\n",
              "      <td>8</td>\n",
              "      <td>3</td>\n",
              "      <td>90</td>\n",
              "      <td>29999</td>\n",
              "      <td>5469600</td>\n",
              "      <td>10.0</td>\n",
              "    </tr>\n",
              "  </tbody>\n",
              "</table>\n",
              "</div>\n",
              "      <button class=\"colab-df-convert\" onclick=\"convertToInteractive('df-9766853f-da15-4c6e-ba72-31e1eb4ab6d6')\"\n",
              "              title=\"Convert this dataframe to an interactive table.\"\n",
              "              style=\"display:none;\">\n",
              "        \n",
              "  <svg xmlns=\"http://www.w3.org/2000/svg\" height=\"24px\"viewBox=\"0 0 24 24\"\n",
              "       width=\"24px\">\n",
              "    <path d=\"M0 0h24v24H0V0z\" fill=\"none\"/>\n",
              "    <path d=\"M18.56 5.44l.94 2.06.94-2.06 2.06-.94-2.06-.94-.94-2.06-.94 2.06-2.06.94zm-11 1L8.5 8.5l.94-2.06 2.06-.94-2.06-.94L8.5 2.5l-.94 2.06-2.06.94zm10 10l.94 2.06.94-2.06 2.06-.94-2.06-.94-.94-2.06-.94 2.06-2.06.94z\"/><path d=\"M17.41 7.96l-1.37-1.37c-.4-.4-.92-.59-1.43-.59-.52 0-1.04.2-1.43.59L10.3 9.45l-7.72 7.72c-.78.78-.78 2.05 0 2.83L4 21.41c.39.39.9.59 1.41.59.51 0 1.02-.2 1.41-.59l7.78-7.78 2.81-2.81c.8-.78.8-2.07 0-2.86zM5.41 20L4 18.59l7.72-7.72 1.47 1.35L5.41 20z\"/>\n",
              "  </svg>\n",
              "      </button>\n",
              "      \n",
              "  <style>\n",
              "    .colab-df-container {\n",
              "      display:flex;\n",
              "      flex-wrap:wrap;\n",
              "      gap: 12px;\n",
              "    }\n",
              "\n",
              "    .colab-df-convert {\n",
              "      background-color: #E8F0FE;\n",
              "      border: none;\n",
              "      border-radius: 50%;\n",
              "      cursor: pointer;\n",
              "      display: none;\n",
              "      fill: #1967D2;\n",
              "      height: 32px;\n",
              "      padding: 0 0 0 0;\n",
              "      width: 32px;\n",
              "    }\n",
              "\n",
              "    .colab-df-convert:hover {\n",
              "      background-color: #E2EBFA;\n",
              "      box-shadow: 0px 1px 2px rgba(60, 64, 67, 0.3), 0px 1px 3px 1px rgba(60, 64, 67, 0.15);\n",
              "      fill: #174EA6;\n",
              "    }\n",
              "\n",
              "    [theme=dark] .colab-df-convert {\n",
              "      background-color: #3B4455;\n",
              "      fill: #D2E3FC;\n",
              "    }\n",
              "\n",
              "    [theme=dark] .colab-df-convert:hover {\n",
              "      background-color: #434B5C;\n",
              "      box-shadow: 0px 1px 3px 1px rgba(0, 0, 0, 0.15);\n",
              "      filter: drop-shadow(0px 1px 2px rgba(0, 0, 0, 0.3));\n",
              "      fill: #FFFFFF;\n",
              "    }\n",
              "  </style>\n",
              "\n",
              "      <script>\n",
              "        const buttonEl =\n",
              "          document.querySelector('#df-9766853f-da15-4c6e-ba72-31e1eb4ab6d6 button.colab-df-convert');\n",
              "        buttonEl.style.display =\n",
              "          google.colab.kernel.accessAllowed ? 'block' : 'none';\n",
              "\n",
              "        async function convertToInteractive(key) {\n",
              "          const element = document.querySelector('#df-9766853f-da15-4c6e-ba72-31e1eb4ab6d6');\n",
              "          const dataTable =\n",
              "            await google.colab.kernel.invokeFunction('convertToInteractive',\n",
              "                                                     [key], {});\n",
              "          if (!dataTable) return;\n",
              "\n",
              "          const docLinkHtml = 'Like what you see? Visit the ' +\n",
              "            '<a target=\"_blank\" href=https://colab.research.google.com/notebooks/data_table.ipynb>data table notebook</a>'\n",
              "            + ' to learn more about interactive tables.';\n",
              "          element.innerHTML = '';\n",
              "          dataTable['output_type'] = 'display_data';\n",
              "          await google.colab.output.renderOutput(dataTable, element);\n",
              "          const docLink = document.createElement('div');\n",
              "          docLink.innerHTML = docLinkHtml;\n",
              "          element.appendChild(docLink);\n",
              "        }\n",
              "      </script>\n",
              "    </div>\n",
              "  </div>\n",
              "  "
            ]
          },
          "metadata": {},
          "execution_count": 41
        }
      ]
    },
    {
      "cell_type": "markdown",
      "source": [
        "Observations:\n",
        "\n",
        "Based on all the logical conditions obtained through analysis of the features, we are left with three phones.\n",
        "\n",
        "The most expensive of these phones is the \"TYS938L\" model and the least expensive is the \"TVF078Y\" model.\n",
        "\n",
        "We could let the children choose from these three phones as per their preferences."
      ],
      "metadata": {
        "id": "Zn6iT-HQSocg"
      }
    },
    {
      "cell_type": "markdown",
      "source": [
        "# Task 9 - Study the variability of the features in the original data set"
      ],
      "metadata": {
        "id": "O09ZVXlbSvhj"
      }
    },
    {
      "cell_type": "code",
      "execution_count": 42,
      "metadata": {
        "id": "grfzKBDyN86r"
      },
      "outputs": [],
      "source": [
        "# Calculate the ratio of the standard deviation to the mean for all the numerical features in the dataframe\n",
        "# Store these values in a new series wherein the rows are the features and the only column is the calculated ratio\n",
        "# Name the series as \"deviations\"\n",
        "\n",
        "deviations=pd.Series(index=['Px_h','Px_w','Scr_h','Scr_w','PC','FC','Int_Mem','Bty_Pwr','RAM','Depth','Weight','Price','Px','Scr_d'],data=[(dataset['Px_h'].std()/dataset['Px_h'].mean()),(dataset['Px_w'].std()/dataset['Px_w'].mean()),\n",
        "                                                                 (dataset['Scr_h'].std()/dataset['Scr_h'].mean()),(dataset['Scr_w'].std()/dataset['Scr_w'].mean()),\n",
        "                                                                 (dataset['PC'].std()/dataset['PC'].mean()),(dataset['FC'].std()/dataset['FC'].mean()),\n",
        "                                                                 (dataset['Int_Mem'].std()/dataset['Int_Mem'].mean()),(dataset['Bty_Pwr'].std()/dataset['Bty_Pwr'].mean()),\n",
        "                                                                 (dataset['RAM'].std()/dataset['RAM'].mean()),(dataset['Depth'].std()/dataset['Depth'].mean()),\n",
        "                                                                 (dataset['Weight'].std()/dataset['Weight'].mean()),(dataset['Price'].std()/dataset['Price'].mean()),\n",
        "                                                                 (dataset['Px'].std()/dataset['Px'].mean()),(dataset['Scr_d'].std()/dataset['Scr_d'].mean())])\n"
      ]
    },
    {
      "cell_type": "code",
      "source": [
        "deviations"
      ],
      "metadata": {
        "colab": {
          "base_uri": "https://localhost:8080/"
        },
        "id": "zc8QapnAHRfR",
        "outputId": "93c3d4d7-13c4-4d81-977a-eb053df6a17a"
      },
      "execution_count": 43,
      "outputs": [
        {
          "output_type": "execute_result",
          "data": {
            "text/plain": [
              "Px_h       0.257998\n",
              "Px_w       0.256226\n",
              "Scr_h      0.314293\n",
              "Scr_w      0.407624\n",
              "PC         0.715716\n",
              "FC         0.712184\n",
              "Int_Mem    1.506514\n",
              "Bty_Pwr    0.256368\n",
              "RAM        0.479075\n",
              "Depth      0.306072\n",
              "Weight     0.388121\n",
              "Price      0.740868\n",
              "Px         0.398680\n",
              "Scr_d      0.340469\n",
              "dtype: float64"
            ]
          },
          "metadata": {},
          "execution_count": 43
        }
      ]
    },
    {
      "cell_type": "code",
      "source": [
        "dataset.info()"
      ],
      "metadata": {
        "colab": {
          "base_uri": "https://localhost:8080/"
        },
        "id": "l-wsDRwMHlKK",
        "outputId": "5305b955-05f7-4d17-bc1b-4d10657e6428"
      },
      "execution_count": 44,
      "outputs": [
        {
          "output_type": "stream",
          "name": "stdout",
          "text": [
            "<class 'pandas.core.frame.DataFrame'>\n",
            "RangeIndex: 50 entries, 0 to 49\n",
            "Data columns (total 19 columns):\n",
            " #   Column   Non-Null Count  Dtype  \n",
            "---  ------   --------------  -----  \n",
            " 0   PID      50 non-null     object \n",
            " 1   Blue     50 non-null     object \n",
            " 2   Wi_Fi    50 non-null     object \n",
            " 3   Tch_Scr  50 non-null     object \n",
            " 4   Ext_Mem  50 non-null     object \n",
            " 5   Px_h     50 non-null     int64  \n",
            " 6   Px_w     50 non-null     int64  \n",
            " 7   Scr_h    50 non-null     int64  \n",
            " 8   Scr_w    50 non-null     int64  \n",
            " 9   PC       50 non-null     int64  \n",
            " 10  FC       50 non-null     int64  \n",
            " 11  Int_Mem  50 non-null     int64  \n",
            " 12  Bty_Pwr  50 non-null     int64  \n",
            " 13  RAM      50 non-null     int64  \n",
            " 14  Depth    50 non-null     int64  \n",
            " 15  Weight   50 non-null     int64  \n",
            " 16  Price    50 non-null     int64  \n",
            " 17  Px       50 non-null     int64  \n",
            " 18  Scr_d    50 non-null     float64\n",
            "dtypes: float64(1), int64(13), object(5)\n",
            "memory usage: 7.5+ KB\n"
          ]
        }
      ]
    },
    {
      "cell_type": "code",
      "execution_count": 45,
      "metadata": {
        "id": "sBRqrnVaN86s",
        "colab": {
          "base_uri": "https://localhost:8080/"
        },
        "outputId": "004ad832-3527-410c-9d36-401da37c4206"
      },
      "outputs": [
        {
          "output_type": "execute_result",
          "data": {
            "text/plain": [
              "Px_w       0.256226\n",
              "Bty_Pwr    0.256368\n",
              "Px_h       0.257998\n",
              "Depth      0.306072\n",
              "Scr_h      0.314293\n",
              "Scr_d      0.340469\n",
              "Weight     0.388121\n",
              "Px         0.398680\n",
              "Scr_w      0.407624\n",
              "RAM        0.479075\n",
              "FC         0.712184\n",
              "PC         0.715716\n",
              "Price      0.740868\n",
              "Int_Mem    1.506514\n",
              "dtype: float64"
            ]
          },
          "metadata": {},
          "execution_count": 45
        }
      ],
      "source": [
        "# View the \"deviations\" series after sorting it in descending order\n",
        "\n",
        "deviations.sort_values()"
      ]
    },
    {
      "cell_type": "markdown",
      "source": [
        "Observations:\n",
        "\n",
        "The ratio of the standard deviation to the mean of a feature normalises it in a way.\n",
        "\n",
        "This allows for comparison between multiple features.\n",
        "\n",
        "The most variable feature in the original data set is the internal memory of the phones.\n",
        "\n",
        "The least variable feature in the original data set is the number of screen pixels in the horizontal axis.\n",
        "\n",
        "Although most features don't seem so variable, the prices of the phones are quite variable.\n"
      ],
      "metadata": {
        "id": "RSypqWHuSzJU"
      }
    },
    {
      "cell_type": "markdown",
      "source": [
        "# Conclusion\n",
        "1. We have used concepts of descriptive statistics to study and work with a data set that contains mobile phone specifications.\n",
        "\n",
        "2. We were able to recommend three phone models to the client which she can then propose to her children."
      ],
      "metadata": {
        "id": "kE4_U-R9TI_d"
      }
    },
    {
      "cell_type": "code",
      "source": [],
      "metadata": {
        "id": "8TQnykmJhK6w"
      },
      "execution_count": 45,
      "outputs": []
    }
  ],
  "metadata": {
    "colab": {
      "provenance": []
    },
    "kernelspec": {
      "display_name": "Python 3",
      "language": "python",
      "name": "python3"
    },
    "language_info": {
      "codemirror_mode": {
        "name": "ipython",
        "version": 3
      },
      "file_extension": ".py",
      "mimetype": "text/x-python",
      "name": "python",
      "nbconvert_exporter": "python",
      "pygments_lexer": "ipython3",
      "version": "3.8.8"
    }
  },
  "nbformat": 4,
  "nbformat_minor": 0
}